{
 "cells": [
  {
   "cell_type": "markdown",
   "metadata": {
    "colab_type": "text",
    "id": "2VZMYlBcQiq0"
   },
   "source": [
    "# Import data"
   ]
  },
  {
   "cell_type": "code",
   "execution_count": 1,
   "metadata": {
    "colab": {
     "base_uri": "https://localhost:8080/",
     "height": 193
    },
    "colab_type": "code",
    "id": "UyeuHtlZRPnw",
    "outputId": "ef7017b1-cdf7-42ec-b1a2-605707f29e1f"
   },
   "outputs": [
    {
     "name": "stdout",
     "output_type": "stream",
     "text": [
      "Collecting image-classifiers\n",
      "  Downloading https://files.pythonhosted.org/packages/8d/7f/31234ee4bc8243f9e8b59b827e8a61436d7269cf75936b0aecc48a08f06c/image_classifiers-0.2.2-py2.py3-none-any.whl (72kB)\n",
      "Requirement already satisfied: keras>=2.1.0 in c:\\users\\tiago\\anaconda3\\lib\\site-packages (from image-classifiers) (2.2.4)\n",
      "Requirement already satisfied: numpy>=1.9.1 in c:\\users\\tiago\\anaconda3\\lib\\site-packages (from keras>=2.1.0->image-classifiers) (1.16.2)\n",
      "Requirement already satisfied: keras-preprocessing>=1.0.5 in c:\\users\\tiago\\anaconda3\\lib\\site-packages (from keras>=2.1.0->image-classifiers) (1.0.9)\n",
      "Requirement already satisfied: six>=1.9.0 in c:\\users\\tiago\\anaconda3\\lib\\site-packages (from keras>=2.1.0->image-classifiers) (1.12.0)\n",
      "Requirement already satisfied: keras-applications>=1.0.6 in c:\\users\\tiago\\anaconda3\\lib\\site-packages (from keras>=2.1.0->image-classifiers) (1.0.7)\n",
      "Requirement already satisfied: scipy>=0.14 in c:\\users\\tiago\\anaconda3\\lib\\site-packages (from keras>=2.1.0->image-classifiers) (1.2.1)\n",
      "Requirement already satisfied: pyyaml in c:\\users\\tiago\\anaconda3\\lib\\site-packages (from keras>=2.1.0->image-classifiers) (5.1)\n",
      "Requirement already satisfied: h5py in c:\\users\\tiago\\anaconda3\\lib\\site-packages (from keras>=2.1.0->image-classifiers) (2.9.0)\n",
      "Installing collected packages: image-classifiers\n",
      "Successfully installed image-classifiers-0.2.2\n"
     ]
    },
    {
     "name": "stderr",
     "output_type": "stream",
     "text": [
      "Using TensorFlow backend.\n"
     ]
    }
   ],
   "source": [
    "!pip install image-classifiers\n",
    "import os\n",
    "import tensorflow as tf\n",
    "from keras import callbacks, Model\n",
    "import matplotlib.pyplot as plt\n",
    "import numpy as np\n",
    "import keras\n",
    "from keras import optimizers\n",
    "from keras.utils.io_utils import HDF5Matrix\n",
    "from keras.models import Sequential\n",
    "from keras.layers import Conv2D, MaxPool2D, Flatten, Dense, Dropout, Activation, BatchNormalization\n",
    "from keras.preprocessing.image import ImageDataGenerator\n",
    "import pandas as pd\n",
    "import random\n",
    "import seaborn as sns\n",
    "from sklearn import datasets, metrics\n",
    "\n",
    "%matplotlib inline"
   ]
  },
  {
   "cell_type": "code",
   "execution_count": 0,
   "metadata": {
    "colab": {
     "base_uri": "https://localhost:8080/",
     "height": 54
    },
    "colab_type": "code",
    "id": "yMbray74Q-vl",
    "outputId": "b08a3d7f-d002-4f4e-9219-a8e722a2d0f7"
   },
   "outputs": [
    {
     "name": "stdout",
     "output_type": "stream",
     "text": [
      "Drive already mounted at /content/gdrive; to attempt to forcibly remount, call drive.mount(\"/content/gdrive\", force_remount=True).\n"
     ]
    }
   ],
   "source": [
    "from google.colab import drive\n",
    "drive.mount(\"/content/gdrive\")"
   ]
  },
  {
   "cell_type": "markdown",
   "metadata": {
    "colab_type": "text",
    "id": "dRGnhFs2iLaB"
   },
   "source": [
    "# Classificando imagens em Fuit 360"
   ]
  },
  {
   "cell_type": "markdown",
   "metadata": {
    "colab_type": "text",
    "id": "zZVh2LKN0nE_"
   },
   "source": []
  },
  {
   "cell_type": "markdown",
   "metadata": {
    "colab_type": "text",
    "id": "auSa7kwYienR"
   },
   "source": [
    "explain dataset"
   ]
  },
  {
   "cell_type": "markdown",
   "metadata": {
    "colab_type": "text",
    "id": "E8BwpFbhyanV"
   },
   "source": [
    "## Lendo o conjunto de dados"
   ]
  },
  {
   "cell_type": "code",
   "execution_count": 4,
   "metadata": {
    "colab": {
     "base_uri": "https://localhost:8080/",
     "height": 280
    },
    "colab_type": "code",
    "id": "cZsAwFpERdZK",
    "outputId": "81abc47f-ee3e-49f2-9e7c-27a92967420e"
   },
   "outputs": [
    {
     "name": "stdout",
     "output_type": "stream",
     "text": [
      "Found 53177 images belonging to 103 classes.\n",
      "Found 17845 images belonging to 103 classes.\n",
      "\n",
      "\n",
      "Showing y sample: [78. 84. 31. 57. 27. 42. 19. 62.  5. 30. 20. 53. 27. 11. 51. 70.  5. 44.\n",
      " 33. 74. 74. 27. 27. 47. 50. 36. 33. 29. 65. 52. 96. 88.]\n",
      "\n",
      "\n",
      "samples in train: 53177\n",
      "samples in test: 17845\n",
      "features: (100, 100, 3)\n",
      "classes: 103\n",
      "\n",
      "shape: (32, 100, 100, 3) (32, 100, 100, 3)\n"
     ]
    }
   ],
   "source": [
    "seed = random.seed(42)\n",
    "\n",
    "sample_datagen = ImageDataGenerator(rescale=1./255)\n",
    "base_path = './fruits-360'\n",
    "target_size = (100, 100)\n",
    "input_shape = (100, 100, 3)\n",
    "classes = [\"Apple Braeburn\",\"Apple Crimson Snow\",\"Apple Golden 1\",\"Apple Golden 2\",\"Apple Golden 3\",\"Apple Granny Smith\",\"Apple Pink Lady\",\"Apple Red 1\",\"Apple Red 2\",\"Apple Red 3\",\n",
    "           \"Apple Red Delicious\",\"Apple Red Yellow 1\",\"Apple Red Yellow 2\",\"Apricot\",\"Avocado\",\"Avocado ripe\",\"Banana\",\"Banana Lady Finger\",\"Banana Red\",\"Cactus fruit\",\"Cantaloupe 1\",\n",
    "           \"Cantaloupe 2\",\"Carambula\",\"Cherry 1\",\"Cherry 2\",\"Cherry Rainier\",\"Cherry Wax Black\",\"Cherry Wax Red\",\"Cherry Wax Yellow\",\"Chestnut\",\"Clementine\",\"Cocos\",\"Dates\",\"Granadilla\",\n",
    "           \"Grape Blue\",\"Grape Pink\",\"Grape White\",\"Grape White 2\",\"Grape White 3\",\"Grape White 4\",\"Grapefruit Pink\",\"Grapefruit White\",\"Guava\",\"Hazelnut\",\"Huckleberry\",\"Kaki\",\"Kiwi\",\n",
    "           \"Kohlrabi\",\"Kumquats\",\"Lemon\",\"Lemon Meyer\",\"Limes\",\"Lychee\",\"Mandarine\",\"Mango\",\"Mangostan\",\"Maracuja\",\"Melon Piel de Sapo\",\"Mulberry\",\"Nectarine\",\"Orange\",\"Papaya\",\"Passion Fruit\",\n",
    "           \"Peach\",\"Peach 2\",\"Peach Flat\",\"Pear\",\"Pear Abate\",\"Pear Kaiser\",\"Pear Monster\",\"Pear Red\",\"Pear Williams\",\"Pepino\",\"Pepper Green\",\"Pepper Red\",\"Pepper Yellow\",\"Physalis\",\n",
    "           \"Physalis with Husk\",\"Pineapple\",\"Pineapple Mini\",\"Pitahaya Red\",\"Plum\",\"Plum 2\",\"Plum 3\",\"Pomegranate\",\"Pomelo Sweetie\",\"Quince\",\"Rambutan\",\"Raspberry\",\"Redcurrant\",\"Salak\",\n",
    "           \"Strawberry\",\"Strawberry Wedge\",\"Tamarillo\",\"Tangelo\",\"Tomato 1\",\"Tomato 2\",\"Tomato 3\",\"Tomato 4\",\"Tomato Cherry Red\",\"Tomato Maroon\",\"Tomato Yellow\",\"Walnut\"]\n",
    "\n",
    "\n",
    "sample_generator = sample_datagen.flow_from_directory(base_path + '/Training',\n",
    "                                                      target_size=target_size,\n",
    "                                                      batch_size=32,\n",
    "                                                      class_mode=\"sparse\",\n",
    "                                                      seed = seed)\n",
    "\n",
    "sample_test_generator = sample_datagen.flow_from_directory(base_path + \"/Test\",\n",
    "                                                           target_size = target_size,\n",
    "                                                           batch_size = 32,\n",
    "                                                           class_mode = \"categorical\",\n",
    "                                                           seed = seed)\n",
    "\n",
    "x_sample, y_sample = sample_generator.next()\n",
    "x_sample_test, y_sample_test = sample_test_generator.next()\n",
    "print('\\n')\n",
    "print('Showing y sample:', y_sample)\n",
    "print('\\n')\n",
    "print('samples in train: %i' % sample_generator.labels.shape,\n",
    "      'samples in test: %i' % sample_test_generator.labels.shape,\n",
    "      'features: %s' % str(x_sample.shape[1:]),\n",
    "      'classes: %i' % (np.max(sample_generator.labels) + 1),\n",
    "      sep='\\n', end='\\n\\n')\n",
    "\n",
    "print('shape:', x_sample.shape, x_sample_test.shape)"
   ]
  },
  {
   "cell_type": "markdown",
   "metadata": {
    "colab_type": "text",
    "id": "57pGkz_R4Qg1"
   },
   "source": [
    "## Lendo as 32 primeiras amostras no conjunto de treinamento"
   ]
  },
  {
   "cell_type": "code",
   "execution_count": null,
   "metadata": {
    "colab": {
     "base_uri": "https://localhost:8080/",
     "height": 519
    },
    "colab_type": "code",
    "id": "-hG7Sa9iR63Z",
    "outputId": "d8e6d47a-81d9-4409-c899-0f289530b50f"
   },
   "outputs": [],
   "source": [
    "plt.figure(figsize=(16, 8))\n",
    "for i in range(4 * 8):\n",
    "    plt.subplot(4, 8, i+1)\n",
    "    plt.subplots_adjust(hspace=0.4)\n",
    "    plt.imshow(x_sample[i])\n",
    "    plt.title(\"{}\".format(classes[int(y_sample[i])]))"
   ]
  },
  {
   "cell_type": "markdown",
   "metadata": {
    "colab_type": "text",
    "id": "NdkYqZCH7L7f"
   },
   "source": [
    "## Visualizando frequência das classes no conjunto"
   ]
  },
  {
   "cell_type": "code",
   "execution_count": 0,
   "metadata": {
    "colab": {
     "base_uri": "https://localhost:8080/",
     "height": 1000
    },
    "colab_type": "code",
    "id": "MpVpqefx7Q-D",
    "outputId": "196733f6-967c-487c-81b1-d94f73fa8441"
   },
   "outputs": [
    {
     "data": {
      "text/plain": [
       "<matplotlib.axes._subplots.AxesSubplot at 0x7ff75d4a60f0>"
      ]
     },
     "execution_count": 21,
     "metadata": {
      "tags": []
     },
     "output_type": "execute_result"
    },
    {
     "data": {
      "image/png": "[encoded data removed]",
      "text/plain": [
       "<Figure size 1152x1440 with 2 Axes>"
      ]
     },
     "metadata": {
      "tags": []
     },
     "output_type": "display_data"
    }
   ],
   "source": [
    "plt.figure(figsize=(16, 20))\n",
    "plt.subplots_adjust(wspace=0.4)\n",
    "plt.subplot(121)\n",
    "plt.title('Frequencia das classes no conjunto de treinamento (%i amostras)' % len(sample_generator.labels))\n",
    "_, counts = np.unique(sample_generator.labels, return_counts=True)\n",
    "sns.barplot(counts, classes)\n",
    "\n",
    "plt.subplot(122)\n",
    "plt.title('Frequencia das classes no conjunto de teste (%i amostras)' % len(sample_test_generator.labels))\n",
    "_, counts = np.unique(sample_test_generator.labels, return_counts=True)\n",
    "sns.barplot(counts, classes)"
   ]
  },
  {
   "cell_type": "markdown",
   "metadata": {
    "colab_type": "text",
    "id": "fj-fKeUCyqH9"
   },
   "source": [
    "# Preprocessamento das imagens de treino e validação"
   ]
  },
  {
   "cell_type": "markdown",
   "metadata": {
    "colab_type": "text",
    "id": "CXbaiQAkHIXZ"
   },
   "source": [
    "##Utilizaremos 20% da base de treinamento para validação"
   ]
  },
  {
   "cell_type": "code",
   "execution_count": 0,
   "metadata": {
    "colab": {
     "base_uri": "https://localhost:8080/"
    },
    "colab_type": "code",
    "id": "192YxjL3hseM",
    "outputId": "51a98555-a453-4375-8060-39450fa8217c"
   },
   "outputs": [
    {
     "name": "stdout",
     "output_type": "stream",
     "text": [
      "Found 42585 images belonging to 103 classes.\n",
      "Found 10612 images belonging to 103 classes.\n",
      "Found 17845 images belonging to 103 classes.\n"
     ]
    }
   ],
   "source": [
    "train_batch_size = 501 # Selecionar um divisor do número de amostras (1 3 5 15 17 51 85 167 255 501 835 2505 2839 8517 14195 42585)\n",
    "val_batch_size = 379 # Selecionar um divisor do número de amostras (1 2 4 7 14 28 379 758 1516 2653 5306 10612)\n",
    "test_batch_size = 215 # Selecionar um divisor do número de amostras (1 5 43 83 215 415 3569 17845)\n",
    "\n",
    "train_datagen = ImageDataGenerator(rescale = 1./255, validation_split = 0.2)\n",
    "train_generator = train_datagen.flow_from_directory(base_path + \"/Training\",\n",
    "                                                    target_size = target_size,\n",
    "                                                    batch_size = train_batch_size,\n",
    "                                                    class_mode = \"categorical\",\n",
    "                                                    subset = 'training')\n",
    "\n",
    "validation_generator = train_datagen.flow_from_directory(base_path + \"/Training\",\n",
    "                                                         target_size = target_size,\n",
    "                                                         batch_size = val_batch_size,\n",
    "                                                         class_mode = \"categorical\",\n",
    "                                                         subset ='validation')\n",
    "\n",
    "test_datagen = ImageDataGenerator(rescale = 1./255)\n",
    "test_generator = test_datagen.flow_from_directory(base_path + \"/Test\",\n",
    "                                                  target_size = target_size,\n",
    "                                                  batch_size = test_batch_size,\n",
    "                                                  class_mode = \"categorical\")"
   ]
  },
  {
   "cell_type": "markdown",
   "metadata": {
    "colab_type": "text",
    "id": "4xvoRGvyzONU"
   },
   "source": [
    "# Parâmetros para treinamento e validação"
   ]
  },
  {
   "cell_type": "code",
   "execution_count": 0,
   "metadata": {
    "colab": {},
    "colab_type": "code",
    "id": "BO1JgkEHu93m"
   },
   "outputs": [],
   "source": [
    "rms = optimizers.RMSprop(lr = 0.0002,\n",
    "                         decay = 1e-6)\n",
    "\n",
    "device = '/gpu:0'\n",
    "\n",
    "epochs = 8\n",
    "\n",
    "train_steps = train_generator.samples // train_batch_size\n",
    "\n",
    "validation_steps = validation_generator.samples // val_batch_size\n",
    "\n",
    "test_steps = test_generator.samples // test_batch_size"
   ]
  },
  {
   "cell_type": "markdown",
   "metadata": {
    "colab_type": "text",
    "id": "2kQEZz7Pfk6n"
   },
   "source": [
    "# Funções de auxílio"
   ]
  },
  {
   "cell_type": "code",
   "execution_count": 0,
   "metadata": {
    "colab": {},
    "colab_type": "code",
    "id": "nEMSkFY2zinb"
   },
   "outputs": [],
   "source": [
    "df_resultado = pd.DataFrame(columns=[\"Rede\", \n",
    "                                     \"train_acc\", \n",
    "                                     \"train_loss\", \n",
    "                                     \"val_acc\", \n",
    "                                     \"val_loss\"])\n",
    "def salvar_resultado(rede,\n",
    "                     train_acc,\n",
    "                     train_loss,\n",
    "                     val_acc,\n",
    "                     val_loss,\n",
    "                     df = df_resultado):\n",
    "  \n",
    "    df = df.append({\"Rede\" : rede,\n",
    "                    \"train_acc\": train_acc,\n",
    "                    \"train_loss\" : train_loss,\n",
    "                    \"val_acc\": val_acc,\n",
    "                    \"val_loss\": val_loss\n",
    "                   }, \n",
    "                   ignore_index = True)\n",
    "    return df"
   ]
  },
  {
   "cell_type": "code",
   "execution_count": 0,
   "metadata": {
    "colab": {},
    "colab_type": "code",
    "id": "ejdscnncgQs4"
   },
   "outputs": [],
   "source": [
    "def train_model(model, \n",
    "                name, \n",
    "                train_g = train_generator, \n",
    "                validation_g = validation_generator, \n",
    "                factor = 1,\n",
    "                train_epochs = epochs):\n",
    "  train_g.reset()\n",
    "  validation_g.reset()\n",
    "  new_epoch = train_epochs * factor\n",
    "  patience = new_epoch // 3\n",
    "  with tf.device(device):\n",
    "      return model.fit_generator(generator = train_g,\n",
    "                                 steps_per_epoch = train_steps / factor,\n",
    "                                 epochs = new_epoch,\n",
    "                                 verbose = 1,\n",
    "                                 validation_data = validation_g,\n",
    "                                 validation_steps = validation_steps,\n",
    "                                 callbacks=[callbacks.TerminateOnNaN(),\n",
    "                                            callbacks.ReduceLROnPlateau(patience = patience),\n",
    "                                            callbacks.ModelCheckpoint('./' + name + '.weights.h5',\n",
    "                                                                      save_best_only=True,\n",
    "                                                                      verbose=1),\n",
    "                                            callbacks.EarlyStopping(patience = patience,\n",
    "                                                                    restore_best_weights = True,\n",
    "                                                                    verbose = 1)])"
   ]
  },
  {
   "cell_type": "code",
   "execution_count": 0,
   "metadata": {
    "colab": {},
    "colab_type": "code",
    "id": "4_20kuPax3Jm"
   },
   "outputs": [],
   "source": [
    "def learning_curve_model(history):\n",
    "\n",
    "  plt.figure(figsize=(16, 6))\n",
    "  \n",
    "  plt.subplot(121)  \n",
    "  plt.plot(history.history['acc'])  \n",
    "  plt.plot(history.history['val_acc'])  \n",
    "  plt.title('model accuracy')  \n",
    "  plt.ylabel('accuracy')  \n",
    "  plt.xlabel('epoch')  \n",
    "  plt.legend(['train', 'val'], loc='upper left')  \n",
    "   \n",
    "  # summarize history for loss  \n",
    "   \n",
    "  plt.subplot(122)  \n",
    "  plt.plot(history.history['loss'])  \n",
    "  plt.plot(history.history['val_loss'])  \n",
    "  plt.title('model loss')  \n",
    "  plt.ylabel('loss')  \n",
    "  plt.xlabel('epoch')  \n",
    "  plt.legend(['train', 'val'], loc='upper left')  \n",
    "  plt.show()"
   ]
  },
  {
   "cell_type": "code",
   "execution_count": 0,
   "metadata": {
    "colab": {},
    "colab_type": "code",
    "id": "jikWqYT7XlsU"
   },
   "outputs": [],
   "source": [
    "def evaluate_generator_model(model, name, generator=validation_generator, steps=validation_steps):\n",
    "  generator.reset()\n",
    "  score_val = model.evaluate_generator(generator = generator, steps = steps)\n",
    "  print('[' + name +'] loss:', score_val[0])\n",
    "  print('[' + name +'] accuracy (NOT BALANCED):', score_val[1])\n",
    "  return score_val"
   ]
  },
  {
   "cell_type": "code",
   "execution_count": 0,
   "metadata": {
    "colab": {},
    "colab_type": "code",
    "id": "DWwVZVILPvY-"
   },
   "outputs": [],
   "source": [
    "def predict_generator_model(model, generator = validation_generator, steps = validation_steps):\n",
    "  generator.reset()\n",
    "\n",
    "  y_val_final = []\n",
    "  prediction_final = []\n",
    "  for i in range(1, generator.samples // steps + 1):\n",
    "    x_val, y_val = generator.next()\n",
    "    probabilities = model.predict(x_val)\n",
    "\n",
    "    prediction_final =  np.append(prediction_final, np.argmax(probabilities, axis=1))  \n",
    "    y_val_final = np.append(y_val_final, np.argmax(y_val, axis=1))\n",
    "    \n",
    "  return y_val_final, prediction_final"
   ]
  },
  {
   "cell_type": "code",
   "execution_count": 0,
   "metadata": {
    "colab": {},
    "colab_type": "code",
    "id": "ikgYey99AQ3m"
   },
   "outputs": [],
   "source": [
    "def classification_report_model(y_val_final, prediction_final, labels=classes):\n",
    "  print(metrics.classification_report(y_val_final, prediction_final, target_names=labels, output_dict= False))\n",
    "\n",
    "  return metrics.classification_report(y_val_final, prediction_final, target_names=labels, output_dict= True)"
   ]
  },
  {
   "cell_type": "code",
   "execution_count": 0,
   "metadata": {
    "colab": {},
    "colab_type": "code",
    "id": "DT1vvjiIlt6R"
   },
   "outputs": [],
   "source": [
    "def confusion_matrix_model(y_test, predictions, labels=classes):\n",
    "  c = metrics.confusion_matrix(y_test, predictions)\n",
    "  r = c / c.sum(axis=1).reshape(-1, 1)\n",
    "\n",
    "  plt.figure(figsize=(18, 14))\n",
    "  ax = sns.heatmap(r, linewidths=.5, cmap='YlGnBu', xticklabels=labels, yticklabels=labels);\n",
    "  plt.show()\n",
    "  \n",
    "  showing = 10\n",
    "\n",
    "  ordered_by_scores = np.argsort(np.diag(r))\n",
    "  labels_sorted_by_score = np.asarray(labels)[ordered_by_scores]\n",
    "\n",
    "  print('\\nClasses incorretamente classificadas pelo modelo, com maior frequência:\\n ',\n",
    "        *('%s: %s\\n' % pair for pair in zip(labels_sorted_by_score[:showing],\n",
    "                                          np.diag(r)[ordered_by_scores])))\n",
    "\n",
    "  print('\\nClasses incorretamente classificadas pelo modelo, com menor frequência:\\n ',\n",
    "        *('%s: %s\\n' % pair for pair in zip(labels_sorted_by_score[::-1][:showing],\n",
    "                                          np.diag(r)[ordered_by_scores[::-1]])))\n",
    "  return r"
   ]
  },
  {
   "cell_type": "code",
   "execution_count": 0,
   "metadata": {
    "colab": {},
    "colab_type": "code",
    "id": "_PD_cjYIDOg-"
   },
   "outputs": [],
   "source": [
    "def evaluate_model(model, name, generator = test_generator, steps = validation_steps):\n",
    "  print('*** Prediction model - Part (1/5)****')\n",
    "  (y_val, prediction) = predict_generator_model(model, generator, steps)\n",
    "  print('*** Classification model - Part (2/5)****')\n",
    "  metric = classification_report_model(y_val, prediction)\n",
    "  print('*** Confusion matrix model - Part (3/5)****')\n",
    "  r = confusion_matrix_model(y_val, prediction)\n",
    "  \n",
    "  print('*** Evaluate model - Part (4/5)****')\n",
    "  val_score = evaluate_generator_model(model, name + '_val', generator, steps)\n",
    "  train_score = evaluate_generator_model(model, name + '_train', train_generator, train_steps)\n",
    "  \n",
    "  print('*** Saving results - Part (5/5)****')\n",
    "  salvar_resultado(name, train_score[1], train_score[0], val_score[1], val_score[0])"
   ]
  },
  {
   "cell_type": "code",
   "execution_count": 0,
   "metadata": {
    "colab": {},
    "colab_type": "code",
    "id": "FMbgoVcEzaHE"
   },
   "outputs": [],
   "source": [
    "def v(model, name, egenerator = validation_generator, steps = test_batch_size):\n",
    "  print('*** Prediction model - Part (1/5)****')\n",
    "  (y_val, prediction) = predict_generator_model(model, generator, steps)\n",
    "  print('*** Classification model - Part (2/5)****')\n",
    "  metric = classification_report_model(y_val, prediction)\n",
    "  print('*** Confusion matrix model - Part (3/5)****')\n",
    "  r = confusion_matrix_model(y_val, prediction)\n",
    "  \n",
    "  print('*** Evaluate model - Part (4/5)****')\n",
    "  evaluate_generator_model(model, name + '_val', generator, steps)"
   ]
  },
  {
   "cell_type": "markdown",
   "metadata": {
    "colab_type": "text",
    "id": "SdjnR8XFy8iI"
   },
   "source": [
    "# Rede *Homemade*"
   ]
  },
  {
   "cell_type": "markdown",
   "metadata": {
    "colab_type": "text",
    "id": "U7GCZwcPz-SF"
   },
   "source": [
    "## Definindo a rede"
   ]
  },
  {
   "cell_type": "code",
   "execution_count": 0,
   "metadata": {
    "colab": {
     "base_uri": "https://localhost:8080/",
     "height": 714
    },
    "colab_type": "code",
    "id": "ZPOtjOqMgS_y",
    "outputId": "321a1c73-c0fa-442f-eea6-c1f58f785f86"
   },
   "outputs": [
    {
     "name": "stderr",
     "output_type": "stream",
     "text": [
      "WARNING: Logging before flag parsing goes to stderr.\n",
      "W0727 14:42:03.331457 140701906896768 deprecation_wrapper.py:119] From /usr/local/lib/python3.6/dist-packages/keras/backend/tensorflow_backend.py:74: The name tf.get_default_graph is deprecated. Please use tf.compat.v1.get_default_graph instead.\n",
      "\n",
      "W0727 14:42:03.334130 140701906896768 deprecation_wrapper.py:119] From /usr/local/lib/python3.6/dist-packages/keras/backend/tensorflow_backend.py:517: The name tf.placeholder is deprecated. Please use tf.compat.v1.placeholder instead.\n",
      "\n",
      "W0727 14:42:03.338870 140701906896768 deprecation_wrapper.py:119] From /usr/local/lib/python3.6/dist-packages/keras/backend/tensorflow_backend.py:4138: The name tf.random_uniform is deprecated. Please use tf.random.uniform instead.\n",
      "\n",
      "W0727 14:42:03.375596 140701906896768 deprecation_wrapper.py:119] From /usr/local/lib/python3.6/dist-packages/keras/backend/tensorflow_backend.py:3976: The name tf.nn.max_pool is deprecated. Please use tf.nn.max_pool2d instead.\n",
      "\n",
      "W0727 14:42:03.396697 140701906896768 deprecation_wrapper.py:119] From /usr/local/lib/python3.6/dist-packages/keras/backend/tensorflow_backend.py:133: The name tf.placeholder_with_default is deprecated. Please use tf.compat.v1.placeholder_with_default instead.\n",
      "\n",
      "W0727 14:42:03.410097 140701906896768 deprecation.py:506] From /usr/local/lib/python3.6/dist-packages/keras/backend/tensorflow_backend.py:3445: calling dropout (from tensorflow.python.ops.nn_ops) with keep_prob is deprecated and will be removed in a future version.\n",
      "Instructions for updating:\n",
      "Please use `rate` instead of `keep_prob`. Rate should be set to `rate = 1 - keep_prob`.\n",
      "W0727 14:42:03.462532 140701906896768 deprecation_wrapper.py:119] From /usr/local/lib/python3.6/dist-packages/keras/optimizers.py:790: The name tf.train.Optimizer is deprecated. Please use tf.compat.v1.train.Optimizer instead.\n",
      "\n",
      "W0727 14:42:03.475212 140701906896768 deprecation_wrapper.py:119] From /usr/local/lib/python3.6/dist-packages/keras/backend/tensorflow_backend.py:3295: The name tf.log is deprecated. Please use tf.math.log instead.\n",
      "\n"
     ]
    },
    {
     "name": "stdout",
     "output_type": "stream",
     "text": [
      "_________________________________________________________________\n",
      "Layer (type)                 Output Shape              Param #   \n",
      "=================================================================\n",
      "conv_1 (Conv2D)              (None, 98, 98, 10)        280       \n",
      "_________________________________________________________________\n",
      "pool_1 (MaxPooling2D)        (None, 49, 49, 10)        0         \n",
      "_________________________________________________________________\n",
      "conv_2 (Conv2D)              (None, 47, 47, 20)        1820      \n",
      "_________________________________________________________________\n",
      "do_1 (Dropout)               (None, 47, 47, 20)        0         \n",
      "_________________________________________________________________\n",
      "pool_2 (MaxPooling2D)        (None, 23, 23, 20)        0         \n",
      "_________________________________________________________________\n",
      "flatten_1 (Flatten)          (None, 10580)             0         \n",
      "_________________________________________________________________\n",
      "dense_1 (Dense)              (None, 103)               1089843   \n",
      "=================================================================\n",
      "Total params: 1,091,943\n",
      "Trainable params: 1,091,943\n",
      "Non-trainable params: 0\n",
      "_________________________________________________________________\n"
     ]
    }
   ],
   "source": [
    "def build_homemade():\n",
    "  model = Sequential()\n",
    "\n",
    "  model.add(Conv2D(filters = 10,\n",
    "                      kernel_size = [3, 3],\n",
    "                      name = \"conv_1\",\n",
    "                      activation = \"relu\",\n",
    "                      input_shape = input_shape))\n",
    "  model.add(MaxPool2D(pool_size = [2, 2], name = \"pool_1\"))\n",
    "\n",
    "  model.add(Conv2D(filters = 20,\n",
    "                       kernel_size = [3, 3],\n",
    "                       name = \"conv_2\",\n",
    "                       activation = \"relu\"))\n",
    "  model.add(Dropout(rate = 0.5, name = \"do_1\"))\n",
    "  model.add(MaxPool2D(pool_size = [2, 2], name = \"pool_2\"))\n",
    "\n",
    "  model.add(Flatten())\n",
    "  model.add(Dense(units = 103,name = \"dense_1\", activation = 'softmax'))\n",
    "\n",
    "  model.compile(optimizer = rms,\n",
    "                    loss = 'categorical_crossentropy',\n",
    "                    metrics=['accuracy'])\n",
    "\n",
    "  model.summary()\n",
    "  return model;\n",
    "\n",
    "homemade_model = build_homemade()"
   ]
  },
  {
   "cell_type": "markdown",
   "metadata": {
    "colab_type": "text",
    "id": "2zN0UuRqzuFK"
   },
   "source": [
    "## Treinando o modelo"
   ]
  },
  {
   "cell_type": "code",
   "execution_count": 0,
   "metadata": {
    "colab": {
     "base_uri": "https://localhost:8080/",
     "height": 1000
    },
    "colab_type": "code",
    "id": "D4_4YG45orYf",
    "outputId": "847dea56-02a0-43cf-ec9a-f676e60b7fa0"
   },
   "outputs": [
    {
     "name": "stderr",
     "output_type": "stream",
     "text": [
      "W0727 14:42:03.824765 140701906896768 deprecation.py:323] From /usr/local/lib/python3.6/dist-packages/tensorflow/python/ops/math_grad.py:1250: add_dispatch_support.<locals>.wrapper (from tensorflow.python.ops.array_ops) is deprecated and will be removed in a future version.\n",
      "Instructions for updating:\n",
      "Use tf.where in 2.0, which has the same broadcast rule as np.where\n"
     ]
    },
    {
     "name": "stdout",
     "output_type": "stream",
     "text": [
      "Epoch 1/160\n",
      "5/4 [===================================] - 4339s 868s/step - loss: 4.5372 - acc: 0.0439 - val_loss: 4.4450 - val_acc: 0.0982\n",
      "\n",
      "Epoch 00001: val_loss improved from inf to 4.44498, saving model to ./homemade.weights.h5\n",
      "Epoch 2/160\n",
      "5/4 [===================================] - 23s 5s/step - loss: 4.2248 - acc: 0.0986 - val_loss: 4.2662 - val_acc: 0.1092\n",
      "\n",
      "Epoch 00002: val_loss improved from 4.44498 to 4.26621, saving model to ./homemade.weights.h5\n",
      "Epoch 3/160\n",
      "5/4 [===================================] - 23s 5s/step - loss: 3.9190 - acc: 0.1996 - val_loss: 4.0859 - val_acc: 0.2301\n",
      "\n",
      "Epoch 00003: val_loss improved from 4.26621 to 4.08587, saving model to ./homemade.weights.h5\n",
      "Epoch 4/160\n",
      "5/4 [===================================] - 773s 155s/step - loss: 3.6050 - acc: 0.3026 - val_loss: 3.8942 - val_acc: 0.3132\n",
      "\n",
      "Epoch 00004: val_loss improved from 4.08587 to 3.89419, saving model to ./homemade.weights.h5\n",
      "Epoch 5/160\n",
      "5/4 [===================================] - 1007s 201s/step - loss: 3.3283 - acc: 0.3517 - val_loss: 3.6981 - val_acc: 0.4132\n",
      "\n",
      "Epoch 00005: val_loss improved from 3.89419 to 3.69806, saving model to ./homemade.weights.h5\n",
      "Epoch 6/160\n",
      "5/4 [===================================] - 1014s 203s/step - loss: 3.0486 - acc: 0.4291 - val_loss: 3.5186 - val_acc: 0.4820\n",
      "\n",
      "Epoch 00006: val_loss improved from 3.69806 to 3.51858, saving model to ./homemade.weights.h5\n",
      "Epoch 7/160\n",
      "5/4 [===================================] - 1004s 201s/step - loss: 2.7581 - acc: 0.4850 - val_loss: 3.3363 - val_acc: 0.5029\n",
      "\n",
      "Epoch 00007: val_loss improved from 3.51858 to 3.33628, saving model to ./homemade.weights.h5\n",
      "Epoch 8/160\n",
      "5/4 [===================================] - 1057s 211s/step - loss: 2.5214 - acc: 0.5493 - val_loss: 3.1658 - val_acc: 0.5335\n",
      "\n",
      "Epoch 00008: val_loss improved from 3.33628 to 3.16583, saving model to ./homemade.weights.h5\n",
      "Epoch 9/160\n",
      "5/4 [===================================] - 1024s 205s/step - loss: 2.3261 - acc: 0.5772 - val_loss: 2.9874 - val_acc: 0.6197\n",
      "\n",
      "Epoch 00009: val_loss improved from 3.16583 to 2.98737, saving model to ./homemade.weights.h5\n",
      "Epoch 10/160\n",
      "5/4 [===================================] - 1013s 203s/step - loss: 2.0787 - acc: 0.6311 - val_loss: 2.8229 - val_acc: 0.6495\n",
      "\n",
      "Epoch 00010: val_loss improved from 2.98737 to 2.82291, saving model to ./homemade.weights.h5\n",
      "Epoch 11/160\n",
      "5/4 [===================================] - 1026s 205s/step - loss: 1.9195 - acc: 0.6435 - val_loss: 2.6781 - val_acc: 0.6922\n",
      "\n",
      "Epoch 00011: val_loss improved from 2.82291 to 2.67808, saving model to ./homemade.weights.h5\n",
      "Epoch 12/160\n",
      "5/4 [===================================] - 1031s 206s/step - loss: 1.7390 - acc: 0.6711 - val_loss: 2.5279 - val_acc: 0.7235\n",
      "\n",
      "Epoch 00012: val_loss improved from 2.67808 to 2.52786, saving model to ./homemade.weights.h5\n",
      "Epoch 13/160\n",
      "5/4 [===================================] - 1018s 204s/step - loss: 1.5587 - acc: 0.7174 - val_loss: 2.3782 - val_acc: 0.7214\n",
      "\n",
      "Epoch 00013: val_loss improved from 2.52786 to 2.37817, saving model to ./homemade.weights.h5\n",
      "Epoch 14/160\n",
      "5/4 [===================================] - 1000s 200s/step - loss: 1.4246 - acc: 0.7441 - val_loss: 2.2535 - val_acc: 0.6860\n",
      "\n",
      "Epoch 00014: val_loss improved from 2.37817 to 2.25351, saving model to ./homemade.weights.h5\n",
      "Epoch 15/160\n",
      "5/4 [===================================] - 1013s 203s/step - loss: 1.3085 - acc: 0.7521 - val_loss: 2.1354 - val_acc: 0.7134\n",
      "\n",
      "Epoch 00015: val_loss improved from 2.25351 to 2.13536, saving model to ./homemade.weights.h5\n",
      "Epoch 16/160\n",
      "5/4 [===================================] - 1011s 202s/step - loss: 1.1956 - acc: 0.7633 - val_loss: 2.0207 - val_acc: 0.7352\n",
      "\n",
      "Epoch 00016: val_loss improved from 2.13536 to 2.02067, saving model to ./homemade.weights.h5\n",
      "Epoch 17/160\n",
      "5/4 [===================================] - 1024s 205s/step - loss: 1.0819 - acc: 0.7872 - val_loss: 1.9213 - val_acc: 0.7595\n",
      "\n",
      "Epoch 00017: val_loss improved from 2.02067 to 1.92129, saving model to ./homemade.weights.h5\n",
      "Epoch 18/160\n",
      "5/4 [===================================] - 25s 5s/step - loss: 0.9825 - acc: 0.8160 - val_loss: 1.8309 - val_acc: 0.7323\n",
      "\n",
      "Epoch 00018: val_loss improved from 1.92129 to 1.83090, saving model to ./homemade.weights.h5\n",
      "Epoch 19/160\n",
      "5/4 [===================================] - 25s 5s/step - loss: 0.9550 - acc: 0.8060 - val_loss: 1.7115 - val_acc: 0.7661\n",
      "\n",
      "Epoch 00019: val_loss improved from 1.83090 to 1.71153, saving model to ./homemade.weights.h5\n",
      "Epoch 20/160\n",
      "5/4 [===================================] - 25s 5s/step - loss: 0.8241 - acc: 0.8511 - val_loss: 1.6243 - val_acc: 0.8055\n",
      "\n",
      "Epoch 00020: val_loss improved from 1.71153 to 1.62427, saving model to ./homemade.weights.h5\n",
      "Epoch 21/160\n",
      "5/4 [===================================] - 25s 5s/step - loss: 0.7555 - acc: 0.8455 - val_loss: 1.5460 - val_acc: 0.8031\n",
      "\n",
      "Epoch 00021: val_loss improved from 1.62427 to 1.54598, saving model to ./homemade.weights.h5\n",
      "Epoch 22/160\n",
      "5/4 [===================================] - 25s 5s/step - loss: 0.7504 - acc: 0.8399 - val_loss: 1.4800 - val_acc: 0.8000\n",
      "\n",
      "Epoch 00022: val_loss improved from 1.54598 to 1.48001, saving model to ./homemade.weights.h5\n",
      "Epoch 23/160\n",
      "5/4 [===================================] - 26s 5s/step - loss: 0.7204 - acc: 0.8367 - val_loss: 1.4386 - val_acc: 0.8211\n",
      "\n",
      "Epoch 00023: val_loss improved from 1.48001 to 1.43856, saving model to ./homemade.weights.h5\n",
      "Epoch 24/160\n",
      "5/4 [===================================] - 25s 5s/step - loss: 0.6292 - acc: 0.8671 - val_loss: 1.3632 - val_acc: 0.8243\n",
      "\n",
      "Epoch 00024: val_loss improved from 1.43856 to 1.36318, saving model to ./homemade.weights.h5\n",
      "Epoch 25/160\n",
      "5/4 [===================================] - 25s 5s/step - loss: 0.5527 - acc: 0.8922 - val_loss: 1.3392 - val_acc: 0.7951\n",
      "\n",
      "Epoch 00025: val_loss improved from 1.36318 to 1.33916, saving model to ./homemade.weights.h5\n",
      "Epoch 26/160\n",
      "5/4 [===================================] - 25s 5s/step - loss: 0.5816 - acc: 0.8675 - val_loss: 1.2637 - val_acc: 0.8285\n",
      "\n",
      "Epoch 00026: val_loss improved from 1.33916 to 1.26369, saving model to ./homemade.weights.h5\n",
      "Epoch 27/160\n",
      "5/4 [===================================] - 25s 5s/step - loss: 0.5171 - acc: 0.8878 - val_loss: 1.1996 - val_acc: 0.8398\n",
      "\n",
      "Epoch 00027: val_loss improved from 1.26369 to 1.19958, saving model to ./homemade.weights.h5\n",
      "Epoch 28/160\n",
      "5/4 [===================================] - 26s 5s/step - loss: 0.4702 - acc: 0.9066 - val_loss: 1.1709 - val_acc: 0.8300\n",
      "\n",
      "Epoch 00028: val_loss improved from 1.19958 to 1.17090, saving model to ./homemade.weights.h5\n",
      "Epoch 29/160\n",
      "5/4 [===================================] - 26s 5s/step - loss: 0.4971 - acc: 0.8854 - val_loss: 1.1833 - val_acc: 0.8155\n",
      "\n",
      "Epoch 00029: val_loss did not improve from 1.17090\n",
      "Epoch 30/160\n",
      "5/4 [===================================] - 25s 5s/step - loss: 0.4867 - acc: 0.8850 - val_loss: 1.1076 - val_acc: 0.8348\n",
      "\n",
      "Epoch 00030: val_loss improved from 1.17090 to 1.10759, saving model to ./homemade.weights.h5\n",
      "Epoch 31/160\n",
      "5/4 [===================================] - 25s 5s/step - loss: 0.3753 - acc: 0.9238 - val_loss: 1.0733 - val_acc: 0.8300\n",
      "\n",
      "Epoch 00031: val_loss improved from 1.10759 to 1.07333, saving model to ./homemade.weights.h5\n",
      "Epoch 32/160\n",
      "5/4 [===================================] - 25s 5s/step - loss: 0.4279 - acc: 0.8954 - val_loss: 1.0515 - val_acc: 0.8367\n",
      "\n",
      "Epoch 00032: val_loss improved from 1.07333 to 1.05146, saving model to ./homemade.weights.h5\n",
      "Epoch 33/160\n",
      "5/4 [===================================] - 26s 5s/step - loss: 0.3854 - acc: 0.9154 - val_loss: 1.0014 - val_acc: 0.8474\n",
      "\n",
      "Epoch 00033: val_loss improved from 1.05146 to 1.00136, saving model to ./homemade.weights.h5\n",
      "Epoch 34/160\n",
      "5/4 [===================================] - 25s 5s/step - loss: 0.3700 - acc: 0.9114 - val_loss: 0.9979 - val_acc: 0.8304\n",
      "\n",
      "Epoch 00034: val_loss improved from 1.00136 to 0.99786, saving model to ./homemade.weights.h5\n",
      "Epoch 35/160\n",
      "5/4 [===================================] - 26s 5s/step - loss: 0.3479 - acc: 0.9281 - val_loss: 0.9291 - val_acc: 0.8604\n",
      "\n",
      "Epoch 00035: val_loss improved from 0.99786 to 0.92911, saving model to ./homemade.weights.h5\n",
      "Epoch 36/160\n",
      "5/4 [===================================] - 25s 5s/step - loss: 0.3227 - acc: 0.9253 - val_loss: 0.9489 - val_acc: 0.8270\n",
      "\n",
      "Epoch 00036: val_loss did not improve from 0.92911\n",
      "Epoch 37/160\n",
      "5/4 [===================================] - 25s 5s/step - loss: 0.3566 - acc: 0.9086 - val_loss: 0.8935 - val_acc: 0.8521\n",
      "\n",
      "Epoch 00037: val_loss improved from 0.92911 to 0.89351, saving model to ./homemade.weights.h5\n",
      "Epoch 38/160\n",
      "5/4 [===================================] - 25s 5s/step - loss: 0.2978 - acc: 0.9325 - val_loss: 0.8859 - val_acc: 0.8545\n",
      "\n",
      "Epoch 00038: val_loss improved from 0.89351 to 0.88590, saving model to ./homemade.weights.h5\n",
      "Epoch 39/160\n",
      "5/4 [===================================] - 25s 5s/step - loss: 0.2752 - acc: 0.9337 - val_loss: 0.8583 - val_acc: 0.8703\n",
      "\n",
      "Epoch 00039: val_loss improved from 0.88590 to 0.85831, saving model to ./homemade.weights.h5\n",
      "Epoch 40/160\n",
      "5/4 [===================================] - 26s 5s/step - loss: 0.2815 - acc: 0.9389 - val_loss: 0.8726 - val_acc: 0.8453\n",
      "\n",
      "Epoch 00040: val_loss did not improve from 0.85831\n",
      "Epoch 41/160\n",
      "5/4 [===================================] - 27s 5s/step - loss: 0.2589 - acc: 0.9437 - val_loss: 0.8508 - val_acc: 0.8286\n",
      "\n",
      "Epoch 00041: val_loss improved from 0.85831 to 0.85076, saving model to ./homemade.weights.h5\n",
      "Epoch 42/160\n",
      "5/4 [===================================] - 25s 5s/step - loss: 0.2493 - acc: 0.9445 - val_loss: 0.8026 - val_acc: 0.8642\n",
      "\n",
      "Epoch 00042: val_loss improved from 0.85076 to 0.80264, saving model to ./homemade.weights.h5\n",
      "Epoch 43/160\n",
      "5/4 [===================================] - 25s 5s/step - loss: 0.2673 - acc: 0.9309 - val_loss: 0.7884 - val_acc: 0.8652\n",
      "\n",
      "Epoch 00043: val_loss improved from 0.80264 to 0.78837, saving model to ./homemade.weights.h5\n",
      "Epoch 44/160\n",
      "5/4 [===================================] - 25s 5s/step - loss: 0.2613 - acc: 0.9401 - val_loss: 0.7710 - val_acc: 0.8697\n",
      "\n",
      "Epoch 00044: val_loss improved from 0.78837 to 0.77101, saving model to ./homemade.weights.h5\n",
      "Epoch 45/160\n",
      "5/4 [===================================] - 25s 5s/step - loss: 0.2214 - acc: 0.9517 - val_loss: 0.7927 - val_acc: 0.8580\n",
      "\n",
      "Epoch 00045: val_loss did not improve from 0.77101\n",
      "Epoch 46/160\n",
      "5/4 [===================================] - 25s 5s/step - loss: 0.2079 - acc: 0.9493 - val_loss: 0.7435 - val_acc: 0.8638\n",
      "\n",
      "Epoch 00046: val_loss improved from 0.77101 to 0.74349, saving model to ./homemade.weights.h5\n",
      "Epoch 47/160\n",
      "5/4 [===================================] - 25s 5s/step - loss: 0.2005 - acc: 0.9485 - val_loss: 0.7945 - val_acc: 0.8573\n",
      "\n",
      "Epoch 00047: val_loss did not improve from 0.74349\n",
      "Epoch 48/160\n",
      "5/4 [===================================] - 25s 5s/step - loss: 0.2157 - acc: 0.9469 - val_loss: 0.7385 - val_acc: 0.8689\n",
      "\n",
      "Epoch 00048: val_loss improved from 0.74349 to 0.73853, saving model to ./homemade.weights.h5\n",
      "Epoch 49/160\n",
      "5/4 [===================================] - 25s 5s/step - loss: 0.2015 - acc: 0.9581 - val_loss: 0.7107 - val_acc: 0.8656\n",
      "\n",
      "Epoch 00049: val_loss improved from 0.73853 to 0.71067, saving model to ./homemade.weights.h5\n",
      "Epoch 50/160\n",
      "5/4 [===================================] - 25s 5s/step - loss: 0.1957 - acc: 0.9561 - val_loss: 0.6813 - val_acc: 0.8703\n",
      "\n",
      "Epoch 00050: val_loss improved from 0.71067 to 0.68132, saving model to ./homemade.weights.h5\n",
      "Epoch 51/160\n",
      "5/4 [===================================] - 25s 5s/step - loss: 0.1774 - acc: 0.9561 - val_loss: 0.6776 - val_acc: 0.8743\n",
      "\n",
      "Epoch 00051: val_loss improved from 0.68132 to 0.67762, saving model to ./homemade.weights.h5\n",
      "Epoch 52/160\n",
      "5/4 [===================================] - 25s 5s/step - loss: 0.1802 - acc: 0.9509 - val_loss: 0.6890 - val_acc: 0.8706\n",
      "\n",
      "Epoch 00052: val_loss did not improve from 0.67762\n",
      "Epoch 53/160\n",
      "5/4 [===================================] - 27s 5s/step - loss: 0.1568 - acc: 0.9641 - val_loss: 0.6787 - val_acc: 0.8665\n",
      "\n",
      "Epoch 00053: val_loss did not improve from 0.67762\n",
      "Epoch 54/160\n",
      "5/4 [===================================] - 25s 5s/step - loss: 0.1792 - acc: 0.9493 - val_loss: 0.6766 - val_acc: 0.8598\n",
      "\n",
      "Epoch 00054: val_loss improved from 0.67762 to 0.67663, saving model to ./homemade.weights.h5\n",
      "Epoch 55/160\n",
      "5/4 [===================================] - 25s 5s/step - loss: 0.1644 - acc: 0.9617 - val_loss: 0.6361 - val_acc: 0.8866\n",
      "\n",
      "Epoch 00055: val_loss improved from 0.67663 to 0.63612, saving model to ./homemade.weights.h5\n",
      "Epoch 56/160\n",
      "5/4 [===================================] - 25s 5s/step - loss: 0.1412 - acc: 0.9701 - val_loss: 0.6465 - val_acc: 0.8676\n",
      "\n",
      "Epoch 00056: val_loss did not improve from 0.63612\n",
      "Epoch 57/160\n",
      "5/4 [===================================] - 25s 5s/step - loss: 0.1338 - acc: 0.9717 - val_loss: 0.6332 - val_acc: 0.8788\n",
      "\n",
      "Epoch 00057: val_loss improved from 0.63612 to 0.63319, saving model to ./homemade.weights.h5\n",
      "Epoch 58/160\n",
      "5/4 [===================================] - 25s 5s/step - loss: 0.1509 - acc: 0.9669 - val_loss: 0.6583 - val_acc: 0.8623\n",
      "\n",
      "Epoch 00058: val_loss did not improve from 0.63319\n",
      "Epoch 59/160\n",
      "5/4 [===================================] - 25s 5s/step - loss: 0.1206 - acc: 0.9733 - val_loss: 0.6541 - val_acc: 0.8662\n",
      "\n",
      "Epoch 00059: val_loss did not improve from 0.63319\n",
      "Epoch 60/160\n",
      "5/4 [===================================] - 25s 5s/step - loss: 0.1400 - acc: 0.9601 - val_loss: 0.6193 - val_acc: 0.8743\n",
      "\n",
      "Epoch 00060: val_loss improved from 0.63319 to 0.61927, saving model to ./homemade.weights.h5\n",
      "Epoch 61/160\n",
      "5/4 [===================================] - 25s 5s/step - loss: 0.1061 - acc: 0.9828 - val_loss: 0.5745 - val_acc: 0.8883\n",
      "\n",
      "Epoch 00061: val_loss improved from 0.61927 to 0.57454, saving model to ./homemade.weights.h5\n",
      "Epoch 62/160\n",
      "5/4 [===================================] - 25s 5s/step - loss: 0.1058 - acc: 0.9824 - val_loss: 0.5933 - val_acc: 0.8812\n",
      "\n",
      "Epoch 00062: val_loss did not improve from 0.57454\n",
      "Epoch 63/160\n",
      "5/4 [===================================] - 25s 5s/step - loss: 0.1083 - acc: 0.9776 - val_loss: 0.5845 - val_acc: 0.8858\n",
      "\n",
      "Epoch 00063: val_loss did not improve from 0.57454\n",
      "Epoch 64/160\n",
      "5/4 [===================================] - 26s 5s/step - loss: 0.1425 - acc: 0.9653 - val_loss: 0.5985 - val_acc: 0.8850\n",
      "\n",
      "Epoch 00064: val_loss did not improve from 0.57454\n",
      "Epoch 65/160\n",
      "5/4 [===================================] - 27s 5s/step - loss: 0.0869 - acc: 0.9832 - val_loss: 0.5590 - val_acc: 0.8912\n",
      "\n",
      "Epoch 00065: val_loss improved from 0.57454 to 0.55896, saving model to ./homemade.weights.h5\n",
      "Epoch 66/160\n",
      "5/4 [===================================] - 25s 5s/step - loss: 0.1003 - acc: 0.9804 - val_loss: 0.5689 - val_acc: 0.8865\n",
      "\n",
      "Epoch 00066: val_loss did not improve from 0.55896\n",
      "Epoch 67/160\n",
      "5/4 [===================================] - 25s 5s/step - loss: 0.1081 - acc: 0.9749 - val_loss: 0.5394 - val_acc: 0.8856\n",
      "\n",
      "Epoch 00067: val_loss improved from 0.55896 to 0.53941, saving model to ./homemade.weights.h5\n",
      "Epoch 68/160\n",
      "5/4 [===================================] - 25s 5s/step - loss: 0.0930 - acc: 0.9768 - val_loss: 0.5758 - val_acc: 0.8780\n",
      "\n",
      "Epoch 00068: val_loss did not improve from 0.53941\n",
      "Epoch 69/160\n",
      "5/4 [===================================] - 25s 5s/step - loss: 0.0867 - acc: 0.9800 - val_loss: 0.5397 - val_acc: 0.8963\n",
      "\n",
      "Epoch 00069: val_loss did not improve from 0.53941\n",
      "Epoch 70/160\n",
      "5/4 [===================================] - 25s 5s/step - loss: 0.0860 - acc: 0.9804 - val_loss: 0.5042 - val_acc: 0.8955\n",
      "\n",
      "Epoch 00070: val_loss improved from 0.53941 to 0.50420, saving model to ./homemade.weights.h5\n",
      "Epoch 71/160\n",
      "5/4 [===================================] - 25s 5s/step - loss: 0.0954 - acc: 0.9733 - val_loss: 0.5099 - val_acc: 0.9000\n",
      "\n",
      "Epoch 00071: val_loss did not improve from 0.50420\n",
      "Epoch 72/160\n",
      "5/4 [===================================] - 25s 5s/step - loss: 0.0718 - acc: 0.9868 - val_loss: 0.5474 - val_acc: 0.8783\n",
      "\n",
      "Epoch 00072: val_loss did not improve from 0.50420\n",
      "Epoch 73/160\n",
      "5/4 [===================================] - 25s 5s/step - loss: 0.0805 - acc: 0.9836 - val_loss: 0.5187 - val_acc: 0.8842\n",
      "\n",
      "Epoch 00073: val_loss did not improve from 0.50420\n",
      "Epoch 74/160\n",
      "5/4 [===================================] - 25s 5s/step - loss: 0.0805 - acc: 0.9804 - val_loss: 0.4932 - val_acc: 0.8859\n",
      "\n",
      "Epoch 00074: val_loss improved from 0.50420 to 0.49322, saving model to ./homemade.weights.h5\n",
      "Epoch 75/160\n",
      "5/4 [===================================] - 25s 5s/step - loss: 0.0726 - acc: 0.9852 - val_loss: 0.5070 - val_acc: 0.8915\n",
      "\n",
      "Epoch 00075: val_loss did not improve from 0.49322\n",
      "Epoch 76/160\n",
      "5/4 [===================================] - 25s 5s/step - loss: 0.0632 - acc: 0.9872 - val_loss: 0.5028 - val_acc: 0.8926\n",
      "\n",
      "Epoch 00076: val_loss did not improve from 0.49322\n",
      "Epoch 77/160\n",
      "5/4 [===================================] - 26s 5s/step - loss: 0.0719 - acc: 0.9860 - val_loss: 0.4926 - val_acc: 0.8846\n",
      "\n",
      "Epoch 00077: val_loss improved from 0.49322 to 0.49256, saving model to ./homemade.weights.h5\n",
      "Epoch 78/160\n",
      "5/4 [===================================] - 26s 5s/step - loss: 0.0727 - acc: 0.9828 - val_loss: 0.5120 - val_acc: 0.8789\n",
      "\n",
      "Epoch 00078: val_loss did not improve from 0.49256\n",
      "Epoch 79/160\n",
      "5/4 [===================================] - 25s 5s/step - loss: 0.1018 - acc: 0.9697 - val_loss: 0.4698 - val_acc: 0.9064\n",
      "\n",
      "Epoch 00079: val_loss improved from 0.49256 to 0.46977, saving model to ./homemade.weights.h5\n",
      "Epoch 80/160\n",
      "5/4 [===================================] - 25s 5s/step - loss: 0.0535 - acc: 0.9892 - val_loss: 0.4733 - val_acc: 0.9036\n",
      "\n",
      "Epoch 00080: val_loss did not improve from 0.46977\n",
      "Epoch 81/160\n",
      "5/4 [===================================] - 25s 5s/step - loss: 0.0578 - acc: 0.9900 - val_loss: 0.4797 - val_acc: 0.8937\n",
      "\n",
      "Epoch 00081: val_loss did not improve from 0.46977\n",
      "Epoch 82/160\n",
      "5/4 [===================================] - 25s 5s/step - loss: 0.0722 - acc: 0.9808 - val_loss: 0.4571 - val_acc: 0.9062\n",
      "\n",
      "Epoch 00082: val_loss improved from 0.46977 to 0.45709, saving model to ./homemade.weights.h5\n",
      "Epoch 83/160\n",
      "5/4 [===================================] - 25s 5s/step - loss: 0.0552 - acc: 0.9876 - val_loss: 0.4767 - val_acc: 0.8926\n",
      "\n",
      "Epoch 00083: val_loss did not improve from 0.45709\n",
      "Epoch 84/160\n",
      "5/4 [===================================] - 25s 5s/step - loss: 0.0555 - acc: 0.9888 - val_loss: 0.4649 - val_acc: 0.8991\n",
      "\n",
      "Epoch 00084: val_loss did not improve from 0.45709\n",
      "Epoch 85/160\n",
      "5/4 [===================================] - 25s 5s/step - loss: 0.0569 - acc: 0.9888 - val_loss: 0.4950 - val_acc: 0.8955\n",
      "\n",
      "Epoch 00085: val_loss did not improve from 0.45709\n",
      "Epoch 86/160\n",
      "5/4 [===================================] - 25s 5s/step - loss: 0.0489 - acc: 0.9920 - val_loss: 0.4830 - val_acc: 0.9033\n",
      "\n",
      "Epoch 00086: val_loss did not improve from 0.45709\n",
      "Epoch 87/160\n",
      "5/4 [===================================] - 25s 5s/step - loss: 0.0585 - acc: 0.9860 - val_loss: 0.4307 - val_acc: 0.9155\n",
      "\n",
      "Epoch 00087: val_loss improved from 0.45709 to 0.43066, saving model to ./homemade.weights.h5\n",
      "Epoch 88/160\n",
      "5/4 [===================================] - 25s 5s/step - loss: 0.0454 - acc: 0.9900 - val_loss: 0.4715 - val_acc: 0.8912\n",
      "\n",
      "Epoch 00088: val_loss did not improve from 0.43066\n",
      "Epoch 89/160\n",
      "5/4 [===================================] - 26s 5s/step - loss: 0.0456 - acc: 0.9896 - val_loss: 0.4573 - val_acc: 0.9053\n",
      "\n",
      "Epoch 00089: val_loss did not improve from 0.43066\n",
      "Epoch 90/160\n",
      "5/4 [===================================] - 26s 5s/step - loss: 0.0435 - acc: 0.9908 - val_loss: 0.4406 - val_acc: 0.9170\n",
      "\n",
      "Epoch 00090: val_loss did not improve from 0.43066\n",
      "Epoch 91/160\n",
      "5/4 [===================================] - 25s 5s/step - loss: 0.0529 - acc: 0.9872 - val_loss: 0.5102 - val_acc: 0.8736\n",
      "\n",
      "Epoch 00091: val_loss did not improve from 0.43066\n",
      "Epoch 92/160\n",
      "5/4 [===================================] - 25s 5s/step - loss: 0.0481 - acc: 0.9908 - val_loss: 0.4429 - val_acc: 0.8948\n",
      "\n",
      "Epoch 00092: val_loss did not improve from 0.43066\n",
      "Epoch 93/160\n",
      "5/4 [===================================] - 25s 5s/step - loss: 0.0451 - acc: 0.9900 - val_loss: 0.4217 - val_acc: 0.9108\n",
      "\n",
      "Epoch 00093: val_loss improved from 0.43066 to 0.42175, saving model to ./homemade.weights.h5\n",
      "Epoch 94/160\n",
      "5/4 [===================================] - 25s 5s/step - loss: 0.0468 - acc: 0.9916 - val_loss: 0.4388 - val_acc: 0.9012\n",
      "\n",
      "Epoch 00094: val_loss did not improve from 0.42175\n",
      "Epoch 95/160\n",
      "5/4 [===================================] - 25s 5s/step - loss: 0.0300 - acc: 0.9964 - val_loss: 0.4230 - val_acc: 0.9053\n",
      "\n",
      "Epoch 00095: val_loss did not improve from 0.42175\n",
      "Epoch 96/160\n",
      "5/4 [===================================] - 25s 5s/step - loss: 0.0514 - acc: 0.9860 - val_loss: 0.4736 - val_acc: 0.8766\n",
      "\n",
      "Epoch 00096: val_loss did not improve from 0.42175\n",
      "Epoch 97/160\n",
      "5/4 [===================================] - 26s 5s/step - loss: 0.0438 - acc: 0.9884 - val_loss: 0.4372 - val_acc: 0.9060\n",
      "\n",
      "Epoch 00097: val_loss did not improve from 0.42175\n",
      "Epoch 98/160\n",
      "5/4 [===================================] - 25s 5s/step - loss: 0.0323 - acc: 0.9936 - val_loss: 0.4194 - val_acc: 0.9169\n",
      "\n",
      "Epoch 00098: val_loss improved from 0.42175 to 0.41942, saving model to ./homemade.weights.h5\n",
      "Epoch 99/160\n",
      "5/4 [===================================] - 25s 5s/step - loss: 0.0301 - acc: 0.9936 - val_loss: 0.4011 - val_acc: 0.9064\n",
      "\n",
      "Epoch 00099: val_loss improved from 0.41942 to 0.40114, saving model to ./homemade.weights.h5\n",
      "Epoch 100/160\n",
      "5/4 [===================================] - 25s 5s/step - loss: 0.0263 - acc: 0.9948 - val_loss: 0.4433 - val_acc: 0.8976\n",
      "\n",
      "Epoch 00100: val_loss did not improve from 0.40114\n",
      "Epoch 101/160\n",
      "5/4 [===================================] - 26s 5s/step - loss: 0.0293 - acc: 0.9928 - val_loss: 0.4743 - val_acc: 0.8783\n",
      "\n",
      "Epoch 00101: val_loss did not improve from 0.40114\n",
      "Epoch 102/160\n",
      "5/4 [===================================] - 27s 5s/step - loss: 0.0625 - acc: 0.9832 - val_loss: 0.4272 - val_acc: 0.9013\n",
      "\n",
      "Epoch 00102: val_loss did not improve from 0.40114\n",
      "Epoch 103/160\n",
      "5/4 [===================================] - 25s 5s/step - loss: 0.0283 - acc: 0.9940 - val_loss: 0.4054 - val_acc: 0.8961\n",
      "\n",
      "Epoch 00103: val_loss did not improve from 0.40114\n",
      "Epoch 104/160\n",
      "5/4 [===================================] - 25s 5s/step - loss: 0.0299 - acc: 0.9932 - val_loss: 0.3895 - val_acc: 0.9123\n",
      "\n",
      "Epoch 00104: val_loss improved from 0.40114 to 0.38950, saving model to ./homemade.weights.h5\n",
      "Epoch 105/160\n",
      "5/4 [===================================] - 25s 5s/step - loss: 0.0244 - acc: 0.9960 - val_loss: 0.4189 - val_acc: 0.9051\n",
      "\n",
      "Epoch 00105: val_loss did not improve from 0.38950\n",
      "Epoch 106/160\n",
      "5/4 [===================================] - 25s 5s/step - loss: 0.0366 - acc: 0.9916 - val_loss: 0.4117 - val_acc: 0.9096\n",
      "\n",
      "Epoch 00106: val_loss did not improve from 0.38950\n",
      "Epoch 107/160\n",
      "5/4 [===================================] - 25s 5s/step - loss: 0.0307 - acc: 0.9940 - val_loss: 0.3824 - val_acc: 0.9299\n",
      "\n",
      "Epoch 00107: val_loss improved from 0.38950 to 0.38239, saving model to ./homemade.weights.h5\n",
      "Epoch 108/160\n",
      "5/4 [===================================] - 25s 5s/step - loss: 0.0277 - acc: 0.9936 - val_loss: 0.3758 - val_acc: 0.9181\n",
      "\n",
      "Epoch 00108: val_loss improved from 0.38239 to 0.37582, saving model to ./homemade.weights.h5\n",
      "Epoch 109/160\n",
      "5/4 [===================================] - 25s 5s/step - loss: 0.0199 - acc: 0.9972 - val_loss: 0.3776 - val_acc: 0.9302\n",
      "\n",
      "Epoch 00109: val_loss did not improve from 0.37582\n",
      "Epoch 110/160\n",
      "5/4 [===================================] - 25s 5s/step - loss: 0.0278 - acc: 0.9940 - val_loss: 0.3999 - val_acc: 0.9107\n",
      "\n",
      "Epoch 00110: val_loss did not improve from 0.37582\n",
      "Epoch 111/160\n",
      "5/4 [===================================] - 25s 5s/step - loss: 0.0329 - acc: 0.9932 - val_loss: 0.4245 - val_acc: 0.9037\n",
      "\n",
      "Epoch 00111: val_loss did not improve from 0.37582\n",
      "Epoch 112/160\n",
      "5/4 [===================================] - 25s 5s/step - loss: 0.0393 - acc: 0.9908 - val_loss: 0.3761 - val_acc: 0.9236\n",
      "\n",
      "Epoch 00112: val_loss did not improve from 0.37582\n",
      "Epoch 113/160\n",
      "5/4 [===================================] - 25s 5s/step - loss: 0.0227 - acc: 0.9924 - val_loss: 0.3721 - val_acc: 0.9121\n",
      "\n",
      "Epoch 00113: val_loss improved from 0.37582 to 0.37208, saving model to ./homemade.weights.h5\n",
      "Epoch 114/160\n",
      "5/4 [===================================] - 26s 5s/step - loss: 0.0135 - acc: 0.9988 - val_loss: 0.3591 - val_acc: 0.9253\n",
      "\n",
      "Epoch 00114: val_loss improved from 0.37208 to 0.35907, saving model to ./homemade.weights.h5\n",
      "Epoch 115/160\n",
      "5/4 [===================================] - 25s 5s/step - loss: 0.0190 - acc: 0.9964 - val_loss: 0.4293 - val_acc: 0.8999\n",
      "\n",
      "Epoch 00115: val_loss did not improve from 0.35907\n",
      "Epoch 116/160\n",
      "5/4 [===================================] - 25s 5s/step - loss: 0.0412 - acc: 0.9888 - val_loss: 0.3796 - val_acc: 0.9123\n",
      "\n",
      "Epoch 00116: val_loss did not improve from 0.35907\n",
      "Epoch 117/160\n",
      "5/4 [===================================] - 25s 5s/step - loss: 0.0291 - acc: 0.9924 - val_loss: 0.3695 - val_acc: 0.9281\n",
      "\n",
      "Epoch 00117: val_loss did not improve from 0.35907\n",
      "Epoch 118/160\n",
      "5/4 [===================================] - 25s 5s/step - loss: 0.0203 - acc: 0.9964 - val_loss: 0.3719 - val_acc: 0.9123\n",
      "\n",
      "Epoch 00118: val_loss did not improve from 0.35907\n",
      "Epoch 119/160\n",
      "5/4 [===================================] - 25s 5s/step - loss: 0.0139 - acc: 0.9980 - val_loss: 0.3857 - val_acc: 0.9245\n",
      "\n",
      "Epoch 00119: val_loss did not improve from 0.35907\n",
      "Epoch 120/160\n",
      "5/4 [===================================] - 25s 5s/step - loss: 0.0188 - acc: 0.9956 - val_loss: 0.3825 - val_acc: 0.9158\n",
      "\n",
      "Epoch 00120: val_loss did not improve from 0.35907\n",
      "Epoch 121/160\n",
      "5/4 [===================================] - 25s 5s/step - loss: 0.0152 - acc: 0.9964 - val_loss: 0.3878 - val_acc: 0.9076\n",
      "\n",
      "Epoch 00121: val_loss did not improve from 0.35907\n",
      "Epoch 122/160\n",
      "5/4 [===================================] - 25s 5s/step - loss: 0.0303 - acc: 0.9932 - val_loss: 0.4624 - val_acc: 0.8918\n",
      "\n",
      "Epoch 00122: val_loss did not improve from 0.35907\n",
      "Epoch 123/160\n",
      "5/4 [===================================] - 25s 5s/step - loss: 0.0419 - acc: 0.9860 - val_loss: 0.3546 - val_acc: 0.9212\n",
      "\n",
      "Epoch 00123: val_loss improved from 0.35907 to 0.35455, saving model to ./homemade.weights.h5\n",
      "Epoch 124/160\n",
      "5/4 [===================================] - 25s 5s/step - loss: 0.0102 - acc: 0.9992 - val_loss: 0.3895 - val_acc: 0.9120\n",
      "\n",
      "Epoch 00124: val_loss did not improve from 0.35455\n",
      "Epoch 125/160\n",
      "5/4 [===================================] - 26s 5s/step - loss: 0.0129 - acc: 0.9984 - val_loss: 0.3889 - val_acc: 0.9107\n",
      "\n",
      "Epoch 00125: val_loss did not improve from 0.35455\n",
      "Epoch 126/160\n",
      "5/4 [===================================] - 26s 5s/step - loss: 0.0113 - acc: 0.9984 - val_loss: 0.3394 - val_acc: 0.9276\n",
      "\n",
      "Epoch 00126: val_loss improved from 0.35455 to 0.33936, saving model to ./homemade.weights.h5\n",
      "Epoch 127/160\n",
      "5/4 [===================================] - 26s 5s/step - loss: 0.0211 - acc: 0.9948 - val_loss: 0.3949 - val_acc: 0.9112\n",
      "\n",
      "Epoch 00127: val_loss did not improve from 0.33936\n",
      "Epoch 128/160\n",
      "5/4 [===================================] - 25s 5s/step - loss: 0.0311 - acc: 0.9904 - val_loss: 0.3829 - val_acc: 0.8980\n",
      "\n",
      "Epoch 00128: val_loss did not improve from 0.33936\n",
      "Epoch 129/160\n",
      "5/4 [===================================] - 25s 5s/step - loss: 0.0164 - acc: 0.9964 - val_loss: 0.3537 - val_acc: 0.9224\n",
      "\n",
      "Epoch 00129: val_loss did not improve from 0.33936\n",
      "Epoch 130/160\n",
      "5/4 [===================================] - 25s 5s/step - loss: 0.0123 - acc: 0.9980 - val_loss: 0.3642 - val_acc: 0.9250\n",
      "\n",
      "Epoch 00130: val_loss did not improve from 0.33936\n",
      "Epoch 131/160\n",
      "5/4 [===================================] - 25s 5s/step - loss: 0.0258 - acc: 0.9916 - val_loss: 0.3728 - val_acc: 0.9227\n",
      "\n",
      "Epoch 00131: val_loss did not improve from 0.33936\n",
      "Epoch 132/160\n",
      "5/4 [===================================] - 25s 5s/step - loss: 0.0160 - acc: 0.9968 - val_loss: 0.3928 - val_acc: 0.9211\n",
      "\n",
      "Epoch 00132: val_loss did not improve from 0.33936\n",
      "Epoch 133/160\n",
      "5/4 [===================================] - 25s 5s/step - loss: 0.0179 - acc: 0.9936 - val_loss: 0.3812 - val_acc: 0.9190\n",
      "\n",
      "Epoch 00133: val_loss did not improve from 0.33936\n",
      "Epoch 134/160\n",
      "5/4 [===================================] - 25s 5s/step - loss: 0.0162 - acc: 0.9960 - val_loss: 0.3532 - val_acc: 0.9222\n",
      "\n",
      "Epoch 00134: val_loss did not improve from 0.33936\n",
      "Epoch 135/160\n",
      "5/4 [===================================] - 25s 5s/step - loss: 0.0165 - acc: 0.9960 - val_loss: 0.4129 - val_acc: 0.8923\n",
      "\n",
      "Epoch 00135: val_loss did not improve from 0.33936\n",
      "Epoch 136/160\n",
      "5/4 [===================================] - 25s 5s/step - loss: 0.0220 - acc: 0.9936 - val_loss: 0.3659 - val_acc: 0.9191\n",
      "\n",
      "Epoch 00136: val_loss did not improve from 0.33936\n",
      "Epoch 137/160\n",
      "5/4 [===================================] - 26s 5s/step - loss: 0.0113 - acc: 0.9980 - val_loss: 0.3406 - val_acc: 0.9216\n",
      "\n",
      "Epoch 00137: val_loss did not improve from 0.33936\n",
      "Epoch 138/160\n",
      "5/4 [===================================] - 25s 5s/step - loss: 0.0140 - acc: 0.9972 - val_loss: 0.3641 - val_acc: 0.9118\n",
      "\n",
      "Epoch 00138: val_loss did not improve from 0.33936\n",
      "Epoch 139/160\n",
      "5/4 [===================================] - 26s 5s/step - loss: 0.0213 - acc: 0.9944 - val_loss: 0.3961 - val_acc: 0.9089\n",
      "\n",
      "Epoch 00139: val_loss did not improve from 0.33936\n",
      "Epoch 140/160\n",
      "5/4 [===================================] - 25s 5s/step - loss: 0.0170 - acc: 0.9944 - val_loss: 0.3884 - val_acc: 0.9028\n",
      "\n",
      "Epoch 00140: val_loss did not improve from 0.33936\n",
      "Epoch 141/160\n",
      "5/4 [===================================] - 25s 5s/step - loss: 0.0112 - acc: 0.9988 - val_loss: 0.3625 - val_acc: 0.9203\n",
      "\n",
      "Epoch 00141: val_loss did not improve from 0.33936\n",
      "Epoch 142/160\n",
      "5/4 [===================================] - 25s 5s/step - loss: 0.0270 - acc: 0.9916 - val_loss: 0.3836 - val_acc: 0.9098\n",
      "\n",
      "Epoch 00142: val_loss did not improve from 0.33936\n",
      "Epoch 143/160\n",
      "5/4 [===================================] - 25s 5s/step - loss: 0.0115 - acc: 0.9980 - val_loss: 0.3476 - val_acc: 0.9241\n",
      "\n",
      "Epoch 00143: val_loss did not improve from 0.33936\n",
      "Epoch 144/160\n",
      "5/4 [===================================] - 25s 5s/step - loss: 0.0086 - acc: 0.9984 - val_loss: 0.3389 - val_acc: 0.9264\n",
      "\n",
      "Epoch 00144: val_loss improved from 0.33936 to 0.33890, saving model to ./homemade.weights.h5\n",
      "Epoch 145/160\n",
      "5/4 [===================================] - 25s 5s/step - loss: 0.0052 - acc: 0.9996 - val_loss: 0.3529 - val_acc: 0.9105\n",
      "\n",
      "Epoch 00145: val_loss did not improve from 0.33890\n",
      "Epoch 146/160\n",
      "5/4 [===================================] - 25s 5s/step - loss: 0.0114 - acc: 0.9980 - val_loss: 0.3606 - val_acc: 0.9242\n",
      "\n",
      "Epoch 00146: val_loss did not improve from 0.33890\n",
      "Epoch 147/160\n",
      "5/4 [===================================] - 26s 5s/step - loss: 0.0140 - acc: 0.9968 - val_loss: 0.3478 - val_acc: 0.9298\n",
      "\n",
      "Epoch 00147: val_loss did not improve from 0.33890\n",
      "Epoch 148/160\n",
      "5/4 [===================================] - 25s 5s/step - loss: 0.0114 - acc: 0.9972 - val_loss: 0.3566 - val_acc: 0.9221\n",
      "\n",
      "Epoch 00148: val_loss did not improve from 0.33890\n",
      "Epoch 149/160\n",
      "5/4 [===================================] - 26s 5s/step - loss: 0.0055 - acc: 0.9992 - val_loss: 0.3364 - val_acc: 0.9308\n",
      "\n",
      "Epoch 00149: val_loss improved from 0.33890 to 0.33640, saving model to ./homemade.weights.h5\n",
      "Epoch 150/160\n",
      "5/4 [===================================] - 25s 5s/step - loss: 0.0153 - acc: 0.9952 - val_loss: 0.4182 - val_acc: 0.9096\n",
      "\n",
      "Epoch 00150: val_loss did not improve from 0.33640\n",
      "Epoch 151/160\n",
      "5/4 [===================================] - 26s 5s/step - loss: 0.0233 - acc: 0.9940 - val_loss: 0.3416 - val_acc: 0.9145\n",
      "\n",
      "Epoch 00151: val_loss did not improve from 0.33640\n",
      "Epoch 152/160\n",
      "5/4 [===================================] - 25s 5s/step - loss: 0.0162 - acc: 0.9964 - val_loss: 0.3302 - val_acc: 0.9309\n",
      "\n",
      "Epoch 00152: val_loss improved from 0.33640 to 0.33024, saving model to ./homemade.weights.h5\n",
      "Epoch 153/160\n",
      "5/4 [===================================] - 25s 5s/step - loss: 0.0069 - acc: 0.9984 - val_loss: 0.3399 - val_acc: 0.9292\n",
      "\n",
      "Epoch 00153: val_loss did not improve from 0.33024\n",
      "Epoch 154/160\n",
      "5/4 [===================================] - 25s 5s/step - loss: 0.0050 - acc: 1.0000 - val_loss: 0.3441 - val_acc: 0.9247\n",
      "\n",
      "Epoch 00154: val_loss did not improve from 0.33024\n",
      "Epoch 155/160\n",
      "5/4 [===================================] - 25s 5s/step - loss: 0.0181 - acc: 0.9944 - val_loss: 0.3892 - val_acc: 0.9109\n",
      "\n",
      "Epoch 00155: val_loss did not improve from 0.33024\n",
      "Epoch 156/160\n",
      "5/4 [===================================] - 25s 5s/step - loss: 0.0132 - acc: 0.9964 - val_loss: 0.3294 - val_acc: 0.9213\n",
      "\n",
      "Epoch 00156: val_loss improved from 0.33024 to 0.32943, saving model to ./homemade.weights.h5\n",
      "Epoch 157/160\n",
      "5/4 [===================================] - 25s 5s/step - loss: 0.0060 - acc: 0.9996 - val_loss: 0.3391 - val_acc: 0.9311\n",
      "\n",
      "Epoch 00157: val_loss did not improve from 0.32943\n",
      "Epoch 158/160\n",
      "5/4 [===================================] - 25s 5s/step - loss: 0.0067 - acc: 0.9988 - val_loss: 0.3452 - val_acc: 0.9287\n",
      "\n",
      "Epoch 00158: val_loss did not improve from 0.32943\n",
      "Epoch 159/160\n",
      "5/4 [===================================] - 25s 5s/step - loss: 0.0075 - acc: 0.9996 - val_loss: 0.3378 - val_acc: 0.9293\n",
      "\n",
      "Epoch 00159: val_loss did not improve from 0.32943\n",
      "Epoch 160/160\n",
      "5/4 [===================================] - 25s 5s/step - loss: 0.0150 - acc: 0.9956 - val_loss: 0.3706 - val_acc: 0.9111\n",
      "\n",
      "Epoch 00160: val_loss did not improve from 0.32943\n"
     ]
    }
   ],
   "source": [
    "history_homemade = train_model(homemade_model, name =  'homemade', factor = 20)"
   ]
  },
  {
   "cell_type": "code",
   "execution_count": 0,
   "metadata": {
    "colab": {
     "base_uri": "https://localhost:8080/",
     "height": 424
    },
    "colab_type": "code",
    "id": "IgD_yTbgMBli",
    "outputId": "ddd2efab-270f-4a48-dcfc-01cdebad2cf4"
   },
   "outputs": [
    {
     "data": {
      "image/png": "[encoded data removed]",
      "text/plain": [
       "<Figure size 1152x432 with 2 Axes>"
      ]
     },
     "metadata": {
      "tags": []
     },
     "output_type": "display_data"
    }
   ],
   "source": [
    "learning_curve_model(history_homemade)"
   ]
  },
  {
   "cell_type": "markdown",
   "metadata": {
    "colab_type": "text",
    "id": "2AsLCvol0LUE"
   },
   "source": [
    "## Avaliando modelo treinado"
   ]
  },
  {
   "cell_type": "code",
   "execution_count": 0,
   "metadata": {
    "colab": {
     "base_uri": "https://localhost:8080/",
     "height": 34
    },
    "colab_type": "code",
    "id": "pXb5SY0epGAR",
    "outputId": "ffc715d3-f799-4232-9ce3-6b0e68c2aa6b"
   },
   "outputs": [
    {
     "name": "stdout",
     "output_type": "stream",
     "text": [
      "*** Prediction model - Part (1/5)****\n"
     ]
    }
   ],
   "source": [
    "evaluate_model(homemade_model, 'Homemade')"
   ]
  },
  {
   "cell_type": "markdown",
   "metadata": {
    "colab_type": "text",
    "id": "9aLhS6sV01tQ"
   },
   "source": [
    "# ResNet18 - Transfer Learning"
   ]
  },
  {
   "cell_type": "markdown",
   "metadata": {
    "colab_type": "text",
    "id": "b8bGDUTi1QoN"
   },
   "source": [
    "## Feature Extraction"
   ]
  },
  {
   "cell_type": "markdown",
   "metadata": {
    "colab_type": "text",
    "id": "lyMUL0QYosDD"
   },
   "source": []
  },
  {
   "cell_type": "markdown",
   "metadata": {
    "colab_type": "text",
    "id": "cqegaNRbJ5x_"
   },
   "source": [
    "### Definindo a rede"
   ]
  },
  {
   "cell_type": "code",
   "execution_count": 0,
   "metadata": {
    "colab": {},
    "colab_type": "code",
    "id": "FD28OW8F1nXw"
   },
   "outputs": [],
   "source": [
    "from classification_models.resnet import ResNet18, preprocess_input\n",
    "\n",
    "def build_resNet18():\n",
    "  model = ResNet18(input_shape = input_shape,\n",
    "                   weights = \"imagenet\",\n",
    "                   include_top=False)\n",
    "\n",
    "  for layer in model.layers:\n",
    "      layer.trainable = False\n",
    "\n",
    "  output = model.output\n",
    "\n",
    "  output = Flatten(name = 'flat_mdc')(output)\n",
    "\n",
    "  output = Dense(103,\n",
    "                 activation ='softmax',\n",
    "                 name = 'saida_mdc')(output)\n",
    "\n",
    "  model = Model(inputs = model.input, outputs = output)\n",
    "\n",
    "  model.compile(loss ='categorical_crossentropy', \n",
    "                optimizer = rms, \n",
    "                metrics=['accuracy'])\n",
    "  \n",
    "  model.summary()\n",
    "  return model\n",
    "\n",
    "resNet18_feature_model = build_resNet18()"
   ]
  },
  {
   "cell_type": "markdown",
   "metadata": {
    "colab_type": "text",
    "id": "LJhxYAfq1TJE"
   },
   "source": [
    "## Fine Tuning"
   ]
  },
  {
   "cell_type": "markdown",
   "metadata": {
    "colab_type": "text",
    "id": "h5kkczAAPvSB"
   },
   "source": [
    "### Definindo a rede"
   ]
  },
  {
   "cell_type": "code",
   "execution_count": 0,
   "metadata": {
    "colab": {},
    "colab_type": "code",
    "id": "4LjvsKG417IT"
   },
   "outputs": [],
   "source": [
    "def build_resNet18_tuning():\n",
    "  model = build_resNet18()\n",
    "  for layer in model.layers:\n",
    "      layer.trainable = True\n",
    "\n",
    "  model.compile(loss ='categorical_crossentropy',\n",
    "                optimizer = rms,\n",
    "                metrics=['accuracy'])\n",
    "\n",
    "  model.summary()\n",
    "  return model\n",
    "\n",
    "resNet18_tunning_model = build_resNet18_tuning()"
   ]
  },
  {
   "cell_type": "markdown",
   "metadata": {
    "colab_type": "text",
    "id": "pqdPAGMJ4Sn8"
   },
   "source": [
    "### Treinando o modelo"
   ]
  },
  {
   "cell_type": "code",
   "execution_count": 0,
   "metadata": {
    "colab": {},
    "colab_type": "code",
    "id": "G1CuiCbX4hHq"
   },
   "outputs": [],
   "source": [
    "history_resNet18_tuning = train_model(resNet18_tunning_model, name =  'ResNet18 - Tuning', factor = 10)"
   ]
  },
  {
   "cell_type": "code",
   "execution_count": 0,
   "metadata": {
    "colab": {},
    "colab_type": "code",
    "id": "lTXCUyqkMazo"
   },
   "outputs": [],
   "source": [
    "learning_curve_model(history_resNet18_tuning)"
   ]
  },
  {
   "cell_type": "markdown",
   "metadata": {
    "colab_type": "text",
    "id": "KaKoggmw4pc7"
   },
   "source": [
    "### Avaliando modelo treinado"
   ]
  },
  {
   "cell_type": "code",
   "execution_count": 0,
   "metadata": {
    "colab": {},
    "colab_type": "code",
    "id": "mJDkdhhZ4ueT"
   },
   "outputs": [],
   "source": [
    "evaluate_model(resNet18_tunning_model, 'ResNet18 - Tuning')"
   ]
  },
  {
   "cell_type": "markdown",
   "metadata": {
    "colab_type": "text",
    "id": "RTTCyhV8Cvr7"
   },
   "source": [
    "# VGG16 - Transfer Learning"
   ]
  },
  {
   "cell_type": "markdown",
   "metadata": {
    "colab_type": "text",
    "id": "ksCCf9UuDum2"
   },
   "source": [
    "## Feature Extraction"
   ]
  },
  {
   "cell_type": "markdown",
   "metadata": {
    "colab_type": "text",
    "id": "s1W-d472t5Vx"
   },
   "source": [
    "### Definindo a rede"
   ]
  },
  {
   "cell_type": "code",
   "execution_count": 0,
   "metadata": {
    "colab": {},
    "colab_type": "code",
    "id": "RkmxwlRXMcfJ"
   },
   "outputs": [],
   "source": [
    "from keras.layers import Input\n",
    "from keras.applications import VGG16\n",
    "from keras.applications.vgg16 import preprocess_input\n",
    "\n",
    "def build_vgg16_feature():\n",
    "  model = VGG16(input_shape = input_shape,\n",
    "                      weights = \"imagenet\",\n",
    "                      include_top = False)\n",
    "\n",
    "  for layer in model.layers:\n",
    "      layer.trainable = False\n",
    "\n",
    "  output = model.output\n",
    "\n",
    "  output = Flatten(name = 'flat_mdc')(output)\n",
    "\n",
    "  output = Dense(103,\n",
    "                 activation ='softmax',\n",
    "                 name = 'saida_mdc')(output)\n",
    "\n",
    "  model = Model(inputs = model.input,\n",
    "                      outputs = output)\n",
    "\n",
    "  model.compile(loss ='categorical_crossentropy',\n",
    "                      optimizer = rms,\n",
    "                      metrics=['accuracy'])\n",
    "\n",
    "  model.summary()\n",
    "  return model\n",
    "\n",
    "vgg16_feature_model = build_vgg16_feature()"
   ]
  },
  {
   "cell_type": "markdown",
   "metadata": {
    "colab_type": "text",
    "id": "qErrIBi7Dw88"
   },
   "source": [
    "## Fine Tuning"
   ]
  },
  {
   "cell_type": "markdown",
   "metadata": {
    "colab_type": "text",
    "id": "iYfSULlDuDIM"
   },
   "source": [
    "### Definindo a rede"
   ]
  },
  {
   "cell_type": "code",
   "execution_count": 0,
   "metadata": {
    "colab": {},
    "colab_type": "code",
    "id": "XDdWD4kNziok"
   },
   "outputs": [],
   "source": [
    "def build_vgg16_tuning():\n",
    "  model = build_vgg16_feature()\n",
    "\n",
    "  for layer in model.layers:\n",
    "      layer.trainable = True\n",
    "\n",
    "  model.compile(loss ='categorical_crossentropy',\n",
    "                optimizer = rms,\n",
    "                metrics=['accuracy'])\n",
    "\n",
    "  model.summary()\n",
    "  return model\n",
    "  \n",
    "vgg16_tunning_model = build_vgg16_tuning();"
   ]
  },
  {
   "cell_type": "markdown",
   "metadata": {
    "colab_type": "text",
    "id": "eLa9XSz4Dxc8"
   },
   "source": [
    "### Treinando o modelo"
   ]
  },
  {
   "cell_type": "code",
   "execution_count": 0,
   "metadata": {
    "colab": {},
    "colab_type": "code",
    "id": "zoaLp_nozioo"
   },
   "outputs": [],
   "source": [
    "history_vgg16_tuning = train_model(vgg16_tunning_model, name =  'VGG16 - Tunning', factor = 10, train_epochs = 16)"
   ]
  },
  {
   "cell_type": "code",
   "execution_count": 0,
   "metadata": {
    "colab": {},
    "colab_type": "code",
    "id": "83yTItf8NMkt"
   },
   "outputs": [],
   "source": [
    "learning_curve_model(history_vgg16_tuning)"
   ]
  },
  {
   "cell_type": "markdown",
   "metadata": {
    "colab_type": "text",
    "id": "pF8TpBuqDx89"
   },
   "source": [
    "### Avaliando modelo treinado"
   ]
  },
  {
   "cell_type": "code",
   "execution_count": 0,
   "metadata": {
    "colab": {},
    "colab_type": "code",
    "id": "ccKkAkU8zios"
   },
   "outputs": [],
   "source": [
    "evaluate_model(vgg16_tunning_model, 'VGG16 - Tunning')"
   ]
  },
  {
   "cell_type": "markdown",
   "metadata": {
    "colab_type": "text",
    "id": "sK0VsffyC1CR"
   },
   "source": [
    "# InceptionV3 - Transfer Learning"
   ]
  },
  {
   "cell_type": "markdown",
   "metadata": {
    "colab_type": "text",
    "id": "7YnXtZa1E6hZ"
   },
   "source": [
    "## Feature Extraction"
   ]
  },
  {
   "cell_type": "markdown",
   "metadata": {
    "colab_type": "text",
    "id": "GOukANwMsxz-"
   },
   "source": [
    "### Definindo a rede"
   ]
  },
  {
   "cell_type": "code",
   "execution_count": 0,
   "metadata": {
    "colab": {},
    "colab_type": "code",
    "id": "HrGf2ZPHziov"
   },
   "outputs": [],
   "source": [
    "from keras.applications import InceptionV3\n",
    "from keras.applications.inception_v3 import preprocess_input\n",
    "\n",
    "\n",
    "def build_inceptionV3_feature_model():\n",
    "  model = InceptionV3(input_shape = input_shape,\n",
    "                                  weights = \"imagenet\",\n",
    "                                  include_top = False)\n",
    "\n",
    "  for layer in model.layers:\n",
    "      layer.trainable = False\n",
    "\n",
    "  output = model.output\n",
    "\n",
    "  output = Flatten(name = 'flat_mdc')(output)\n",
    "\n",
    "  output = Dense(103,\n",
    "                 activation ='softmax',\n",
    "                 name = 'saida_mdc')(output)\n",
    "\n",
    "  model = Model(inputs = model.input,\n",
    "                            outputs = output)\n",
    "\n",
    "  model.compile(loss ='categorical_crossentropy',\n",
    "                            optimizer = rms,\n",
    "                            metrics=['accuracy'])\n",
    "\n",
    "  model.summary()\n",
    "  return model\n",
    "\n",
    "inceptionv3_feature_model = build_inceptionV3_feature_model()"
   ]
  },
  {
   "cell_type": "markdown",
   "metadata": {
    "colab_type": "text",
    "id": "HYNBwYlLGUUd"
   },
   "source": [
    "## Fine Tuning"
   ]
  },
  {
   "cell_type": "markdown",
   "metadata": {
    "colab_type": "text",
    "id": "MjRWcv6ys899"
   },
   "source": [
    "### Definindo a rede"
   ]
  },
  {
   "cell_type": "code",
   "execution_count": 0,
   "metadata": {
    "colab": {},
    "colab_type": "code",
    "id": "DN2VAwjnzio4"
   },
   "outputs": [],
   "source": [
    "def build_inceptionV3_tunning_model():\n",
    "  model = build_inceptionV3_feature_model()\n",
    "  for layer in model.layers:\n",
    "      layer.trainable = True\n",
    "\n",
    "  model.compile(loss ='categorical_crossentropy',\n",
    "                            optimizer = rms,\n",
    "                            metrics=['accuracy'])\n",
    "\n",
    "  model.summary()\n",
    "  return model\n",
    "\n",
    "inceptionv3_tunning_model = build_inceptionV3_tunning_model()"
   ]
  },
  {
   "cell_type": "markdown",
   "metadata": {
    "colab_type": "text",
    "id": "v5uXtLglE87H"
   },
   "source": [
    "### Treinando o modelo"
   ]
  },
  {
   "cell_type": "code",
   "execution_count": 0,
   "metadata": {
    "colab": {},
    "colab_type": "code",
    "id": "5Ec8yn2izio8"
   },
   "outputs": [],
   "source": [
    "history_inceptionv3_tuning = train_model(inceptionv3_tunning_model, name =  'InceptionV3 - Tunning', factor = 10, train_epochs = 16)"
   ]
  },
  {
   "cell_type": "code",
   "execution_count": 0,
   "metadata": {
    "colab": {},
    "colab_type": "code",
    "id": "cX19C4b_NW8f"
   },
   "outputs": [],
   "source": [
    "learning_curve_model(history_inceptionv3_tuning)"
   ]
  },
  {
   "cell_type": "markdown",
   "metadata": {
    "colab_type": "text",
    "id": "NjA3-QJpE-5x"
   },
   "source": [
    "### Avaliando modelo treinado"
   ]
  },
  {
   "cell_type": "code",
   "execution_count": 0,
   "metadata": {
    "colab": {},
    "colab_type": "code",
    "id": "PdT23dC7zio_"
   },
   "outputs": [],
   "source": [
    "evaluate_model(inceptionv3_tunning_model, 'InceptionV3 - Tunning')"
   ]
  },
  {
   "cell_type": "markdown",
   "metadata": {
    "colab_type": "text",
    "id": "__PLtqq6C8yH"
   },
   "source": [
    "# MobileNetV2 - Transfer Learning"
   ]
  },
  {
   "cell_type": "markdown",
   "metadata": {
    "colab_type": "text",
    "id": "mv-Xdt4QE73P"
   },
   "source": [
    "## Feature Extraction"
   ]
  },
  {
   "cell_type": "markdown",
   "metadata": {
    "colab_type": "text",
    "id": "pBVRil6Hu94T"
   },
   "source": [
    "### Definindo a rede"
   ]
  },
  {
   "cell_type": "code",
   "execution_count": 0,
   "metadata": {
    "colab": {},
    "colab_type": "code",
    "id": "peAsxSPJTKKq"
   },
   "outputs": [],
   "source": [
    "from keras.applications import MobileNetV2\n",
    "from keras.applications.mobilenet_v2 import preprocess_input\n",
    "\n",
    "def build_mobileNet_feature_model():\n",
    "  model = MobileNetV2(input_shape = input_shape,\n",
    "                                weights = \"imagenet\",\n",
    "                                include_top = False)\n",
    "\n",
    "  for layer in model.layers:\n",
    "      layer.trainable = False\n",
    "\n",
    "  output = model.output\n",
    "\n",
    "  output = Flatten(name = 'flat_mdc')(output)\n",
    "\n",
    "  output = Dense(103,\n",
    "                 activation ='softmax',\n",
    "                 name = 'saida_mdc')(output)\n",
    "\n",
    "  model = Model(inputs = model.input,\n",
    "                          outputs = output)\n",
    "\n",
    "  model.compile(loss ='categorical_crossentropy',\n",
    "                          optimizer = rms,\n",
    "                          metrics=['accuracy'])\n",
    "\n",
    "  model.summary()\n",
    "  return model\n",
    "\n",
    "mobileNet_feature_model = build_mobileNet_feature_model()"
   ]
  },
  {
   "cell_type": "markdown",
   "metadata": {
    "colab_type": "text",
    "id": "IZ1521zxGofc"
   },
   "source": [
    "## Fine Tuning"
   ]
  },
  {
   "cell_type": "markdown",
   "metadata": {
    "colab_type": "text",
    "id": "TqVSx3KUvCy_"
   },
   "source": [
    "### Definindo a rede"
   ]
  },
  {
   "cell_type": "code",
   "execution_count": 0,
   "metadata": {
    "colab": {},
    "colab_type": "code",
    "id": "7E2GzaqOZ-C2"
   },
   "outputs": [],
   "source": [
    "def build_mobileNet_tunning_model():\n",
    "  model = build_mobileNet_feature_model()\n",
    "  for layer in model.layers:\n",
    "      layer.trainable = True\n",
    "\n",
    "  model.compile(loss ='categorical_crossentropy',\n",
    "                          optimizer = rms,\n",
    "                          metrics=['accuracy'])\n",
    "\n",
    "  model.summary()\n",
    "  return model\n",
    "\n",
    "mobileNet_tunning_model = build_mobileNet_tunning_model()"
   ]
  },
  {
   "cell_type": "markdown",
   "metadata": {
    "colab_type": "text",
    "id": "zgPmCCxfLZiD"
   },
   "source": [
    "### Treinando o modelo"
   ]
  },
  {
   "cell_type": "code",
   "execution_count": 0,
   "metadata": {
    "colab": {},
    "colab_type": "code",
    "id": "cBuRzFBiLrip"
   },
   "outputs": [],
   "source": [
    "history_mobileNet_tunning = train_model(mobileNet_tunning_model, name =  'MobileNet- Tunning', factor = 10, train_epochs = 16)"
   ]
  },
  {
   "cell_type": "code",
   "execution_count": 0,
   "metadata": {
    "colab": {},
    "colab_type": "code",
    "id": "mtJJDSAyLrt_"
   },
   "outputs": [],
   "source": [
    "learning_curve_model(history_mobileNet_tunning)"
   ]
  },
  {
   "cell_type": "markdown",
   "metadata": {
    "colab_type": "text",
    "id": "HmHwlno5Lr-2"
   },
   "source": [
    "### Avaliando modelo treinado"
   ]
  },
  {
   "cell_type": "code",
   "execution_count": 0,
   "metadata": {
    "colab": {},
    "colab_type": "code",
    "id": "szKowAqELsUf"
   },
   "outputs": [],
   "source": [
    "evaluate_model(mobileNet_tunning_model, 'MobileNet - Tunning')"
   ]
  },
  {
   "cell_type": "markdown",
   "metadata": {
    "colab_type": "text",
    "id": "2uH_qibady2S"
   },
   "source": [
    "# Avaliando as redes"
   ]
  },
  {
   "cell_type": "markdown",
   "metadata": {
    "colab_type": "text",
    "id": "_dwTt3fMyQQT"
   },
   "source": [
    "## Comparando resultados das redes propostas"
   ]
  },
  {
   "cell_type": "code",
   "execution_count": 0,
   "metadata": {
    "colab": {},
    "colab_type": "code",
    "id": "Slp8KYMSzipR"
   },
   "outputs": [],
   "source": [
    "df_resultado.sort_values(by=[\"val_acc\"])"
   ]
  },
  {
   "cell_type": "markdown",
   "metadata": {
    "colab_type": "text",
    "id": "_gDiU-usyXkT"
   },
   "source": [
    "## Avaliando no conjunto de teste(a melhor rede)"
   ]
  },
  {
   "cell_type": "code",
   "execution_count": 0,
   "metadata": {
    "colab": {},
    "colab_type": "code",
    "id": "z35H21MzyhO_"
   },
   "outputs": [],
   "source": [
    "evaluate_test_model(history_resNet18_tuning, 'MobileNet - Tunning')"
   ]
  }
 ],
 "metadata": {
  "accelerator": "GPU",
  "colab": {
   "collapsed_sections": [
    "SdjnR8XFy8iI",
    "9aLhS6sV01tQ",
    "RTTCyhV8Cvr7"
   ],
   "name": "TCC_MDC_fruit_v4_1.ipynb",
   "provenance": [],
   "version": "0.3.2"
  },
  "kernelspec": {
   "display_name": "Python 3",
   "language": "python",
   "name": "python3"
  },
  "language_info": {
   "codemirror_mode": {
    "name": "ipython",
    "version": 3
   },
   "file_extension": ".py",
   "mimetype": "text/x-python",
   "name": "python",
   "nbconvert_exporter": "python",
   "pygments_lexer": "ipython3",
   "version": "3.7.3"
  }
 },
 "nbformat": 4,
 "nbformat_minor": 1
}
